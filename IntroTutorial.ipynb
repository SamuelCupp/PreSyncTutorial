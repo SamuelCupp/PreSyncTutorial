{
 "cells": [
  {
   "cell_type": "markdown",
   "metadata": {},
   "source": [
    "![cactus](http://cactuscode.org/global/images/cactuslogo.png)\n",
    "# Compiling Cactus!\n",
    "Step 1 is to download the code. We make a directory for the tutorial and compile the thornlist provided by this tutorial."
   ]
  },
  {
   "cell_type": "code",
   "execution_count": null,
   "metadata": {
    "collapsed": true,
    "scrolled": true
   },
   "outputs": [],
   "source": [
    "%cd ~/\n",
    "%mkdir Tutorial\n",
    "%cd ~/Tutorial\n",
    "!curl -kLO https://raw.githubusercontent.com/gridaphobe/CRL/ET_2018_02/GetComponents\n",
    "!chmod a+x ./GetComponents\n",
    "!echo no|./GetComponents --parallel ~/PreSyncTutorial/thorns.th"
   ]
  },
  {
   "cell_type": "markdown",
   "metadata": {},
   "source": [
    "This is the command to build Cactus using our thornlist. As written, it will build in parallel using two processes."
   ]
  },
  {
   "cell_type": "code",
   "execution_count": null,
   "metadata": {
    "collapsed": true
   },
   "outputs": [],
   "source": [
    "%cd ~/Tutorial/CactusPre\n",
    "!./simfactory/bin/sim setup-silent\n",
    "!./simfactory/bin/sim build -j 2 --thornlist=~/Tutorial/CactusPre/thornlists/thorns.th"
   ]
  },
  {
   "cell_type": "markdown",
   "metadata": {},
   "source": [
    "<h1>Running Cactus!</h1>"
   ]
  },
  {
   "cell_type": "markdown",
   "metadata": {},
   "source": [
    "The thornlist we used pulls the presync branch of all the thorns, and PreSync is fully active. However, backward compatibility is critical for any framework update. Therefore, we will show that old code still functions with these branches of the Toolkit.\n",
    "\n",
    "Below, we run a simple 2D wave with symmetric boundary conditions. This parameter file uses the thorn OldWave, which is a thorn designed for the Einstein Toolkit without PreSync. This is in the PresyncWave repository, which also contains the thorn PresyncWave. PresyncWave uses PreSync and is also capable of running with backward compatible settings that ignores PreSync. For this tutorial, we will be changing OldWave to match PresyncWave."
   ]
  },
  {
   "cell_type": "code",
   "execution_count": null,
   "metadata": {
    "collapsed": true
   },
   "outputs": [],
   "source": [
    "%mkdir ~/Tutorial/CactusPre/pars"
   ]
  },
  {
   "cell_type": "code",
   "execution_count": null,
   "metadata": {
    "collapsed": true
   },
   "outputs": [],
   "source": [
    "%%writefile ~/Tutorial/CactusPre/pars/oldwave.par\n",
    "ActiveThorns = \"OldWave Boundary\"\n",
    "ActiveThorns = \"CoordBase Carpet CartGrid3D MoL SymBase\"\n",
    "ActiveThorns = \"CarpetReduce CarpetIOBasic CarpetIOASCII Time\"\n",
    "\n",
    "cactus::cctk_itlast = 50\n",
    "\n",
    "CartGrid3D::type = \"coordbase\"\n",
    "CartGrid3D::avoid_origin = \"no\"\n",
    "CoordBase::domainsize = \"minmax\"\n",
    "CoordBase::spacing    = \"gridspacing\"\n",
    "CoordBase::xmin = -5\n",
    "CoordBase::xmax = 5\n",
    "CoordBase::ymin = -5\n",
    "CoordBase::ymax = 5\n",
    "CoordBase::zmin = 0\n",
    "CoordBase::zmax = 0\n",
    "CoordBase::dx = 0.2\n",
    "CoordBase::dy = 0.2\n",
    "CoordBase::boundary_size_z_lower = 0\n",
    "CoordBase::boundary_size_z_upper = 0\n",
    "CoordBase::boundary_shiftout_z_lower = 1\n",
    "CoordBase::boundary_shiftout_z_upper = 1\n",
    "\n",
    "Time::dtfac = 0.2\n",
    "\n",
    "Carpet::domain_from_coordbase = \"yes\"\n",
    "Carpet::ghost_size_x = 1\n",
    "Carpet::ghost_size_y = 1\n",
    "Carpet::ghost_size_z = 0\n",
    "\n",
    "IO::out_dir = $parfile\n",
    "\n",
    "IOBasic::outInfo_every = 5\n",
    "IOBasic::outInfo_vars =  \"OldWave::psi\"\n",
    "\n",
    "IOASCII::out2D_every = 5\n",
    "IOASCII::out2D_xyplane_z = 0\n",
    "IOASCII::out2D_vars = \"\n",
    "  OldWave::energy\n",
    "  OldWave::psi\n",
    "  OldWave::phi\n",
    "\"\n",
    "\n",
    "CarpetIOASCII::compact_format = true\n",
    "IOASCII::output_ghost_points = \"no\"\n",
    "\n",
    "# MoL\n",
    "MoL::ODE_Method = \"RK3\"\n",
    "\n",
    "OldWave::BCtype = \"symmetry\""
   ]
  },
  {
   "cell_type": "markdown",
   "metadata": {},
   "source": [
    "This next cell deletes our simulation in case we want to throw it away and start over again for some reason."
   ]
  },
  {
   "cell_type": "code",
   "execution_count": null,
   "metadata": {
    "collapsed": true
   },
   "outputs": [],
   "source": [
    "!rm -fr ~/simulations/oldwave"
   ]
  },
  {
   "cell_type": "markdown",
   "metadata": {},
   "source": [
    "Enough already! Let's run Cactus!"
   ]
  },
  {
   "cell_type": "code",
   "execution_count": null,
   "metadata": {
    "collapsed": true
   },
   "outputs": [],
   "source": [
    "%cd ~/Tutorial/CactusPre\n",
    "!./simfactory/bin/sim create-run --procs 2 --num-threads 1 pars/oldwave.par"
   ]
  },
  {
   "cell_type": "markdown",
   "metadata": {},
   "source": [
    "Data can be found in this directory. Using the next couple of commands, we will browse it."
   ]
  },
  {
   "cell_type": "code",
   "execution_count": null,
   "metadata": {
    "collapsed": true
   },
   "outputs": [],
   "source": [
    "%cd ~/simulations/oldwave/output-0000/oldwave"
   ]
  },
  {
   "cell_type": "code",
   "execution_count": null,
   "metadata": {
    "collapsed": true,
    "scrolled": true
   },
   "outputs": [],
   "source": [
    "%ls *.asc"
   ]
  },
  {
   "cell_type": "code",
   "execution_count": null,
   "metadata": {
    "collapsed": true
   },
   "outputs": [],
   "source": [
    "# This cell enables inline plotting in the notebook\n",
    "%matplotlib inline\n",
    "\n",
    "import matplotlib\n",
    "import numpy as np\n",
    "import matplotlib.pyplot as plt\n",
    "import matplotlib.cm as cm\n",
    "# https://matplotlib.org/examples/color/colormaps_reference.html\n",
    "cmap = cm.gist_rainbow"
   ]
  },
  {
   "cell_type": "code",
   "execution_count": null,
   "metadata": {
    "collapsed": true
   },
   "outputs": [],
   "source": [
    "file_data = np.genfromtxt(\"psi.xy.asc\")\n",
    "sets = np.unique(file_data[:,0])\n",
    "width = 8\n",
    "height = 4\n",
    "print(\"sets=\",sets)\n",
    "mn, mx = np.min(file_data[:,8]),np.max(file_data[:,8])\n",
    "for which in sets: \n",
    "    print(\"which=\",which)\n",
    "    g = file_data[file_data[:,0]==which,:]\n",
    "    x = g[:,5]\n",
    "    y = g[:,6]\n",
    "    z = g[:,8]\n",
    "    zi = z.reshape(len(np.unique(y)),len(np.unique(x)))\n",
    "    print('min/max=',np.min(zi),np.max(zi))\n",
    "    plt.figure(figsize=(width, height))\n",
    "    plt.imshow(zi[::-1,:],cmap,clim=(mn,mx))\n",
    "    plt.show()"
   ]
  },
  {
   "cell_type": "markdown",
   "metadata": {},
   "source": [
    "<h2>Using PreSync</h2>\n",
    "We have confirmed that OldWave works, and by extension that legacy code still functions with the PreSync update to Cactus. Our next task is to change OldWave to use PreSync and remain backwards compatible with code that has not been updated to use PreSync."
   ]
  },
  {
   "cell_type": "markdown",
   "metadata": {},
   "source": [
    "To begin, we will change the schedule.ccl to use PreSync while remaining backward compatible. First, let us examine the current schedule."
   ]
  },
  {
   "cell_type": "code",
   "execution_count": null,
   "metadata": {
    "collapsed": true
   },
   "outputs": [],
   "source": [
    "%pycat ~/Tutorial/CactusPre/repos/PresyncWave/OldWave/schedule.ccl"
   ]
  },
  {
   "cell_type": "markdown",
   "metadata": {},
   "source": [
    "Currently, scheduled functions have SYNC statements to trigger synchronization, and the Boundary Routines section handles the registration and application of boundary conditions. PreSync instead relies on read/write declarations to determine when synchronization and boundary condition application routines should run. PreSync ignores the SYNC statements, so we can safely leave them for backward compatibility and add the READS and WRITES statements.\n",
    "\n",
    "Read/write statements require the thorn::variable that is accessed and also the region on which it is accessed. PreSync supports several regions of validity, but for most functions the only two which should be used are \"interior\" and \"everywhere\". A variable which is read \"everywhere\" requires that the variable be valid in the ghost zones and boundary regions, while reading the interior does not. Writing variables changes their region of validity, causing synchronization to trigger when the next read(everywhere) is encountered."
   ]
  },
  {
   "cell_type": "markdown",
   "metadata": {},
   "source": [
    "As an example, let us look at the function presync_wave_init. It is scheduled as\n",
    "\n",
    "<div style='border-style: solid; border-color: black; padding: 5px;'>\n",
    "<pre>\n",
    "schedule oldsync_wave_init at CCTK_POSTINITIAL\n",
    "{\n",
    "  LANG: C\n",
    "  SYNC: OldWave::evo_vars\n",
    "} \"initial condition\"\n",
    "</pre>\n",
    "</div>\n",
    "\n",
    "This simple function writes psi and phi initial data, and it reads the grid variables x, and y. The code only loops over the interior, so Therefore, we may change the scheduling to the following:\n",
    "\n",
    "<div style='border-style: solid; border-color: black; padding: 5px;'>\n",
    "<pre>\n",
    "schedule oldsync_wave_init at CCTK_POSTINITIAL\n",
    "{\n",
    "  LANG: C\n",
    "  READS: Grid::x(interior), y\n",
    "  WRITES: OldWave::evo_vars(interior)\n",
    "  SYNC: OldWave::evo_vars\n",
    "} \"initial condition\"\n",
    "</pre>\n",
    "</div>\n",
    "\n",
    "As seen in the READ declaration, multiple variables can be listed on one line by adding them after the region specification. Also, a group may be given instead of individual variables, as in the WRITE declaration.\n",
    "\n",
    "Compared to the confusing and non-trivial problem of determining the correct positions of the SYNC statements, determining the read/write declarations for a function is far simpler and only requires knowledge of the one scheduled function (and any functions it calls).\n",
    "\n",
    "All the functions in OldWave have very simple read/write dependencies, and adding those to the schedule.ccl are all that is required to properly trigger synchronization with PreSync. To see the complete declarations, you may look further down where we write the new schedule.ccl."
   ]
  },
  {
   "cell_type": "markdown",
   "metadata": {},
   "source": [
    "For now, we move on to boundary conditions. This thorn uses its own boundary conditions, which it registers with the Boundary thorn in the presync_registervars function. To apply boundary conditions, it schedules a SelectBCs function and the ApplyBCs group (provided by Boundary) wherever boundary conditions should be applied. In this case, there are two separate SelectBCs functions, and they must be scheduled separately.\n",
    "\n",
    "In contrast, PreSync only requires the SelectBCs routine to run once, at the beginning of a simulation. This is facillitated by the Boundary2 thorn, which provides the features of Boundary updated to use PreSync. In addition, it provides groups for boundary registration and selection. The new schedule for the boundary routines is\n",
    "<div style='border-style: solid; border-color: black; padding: 5px;'>\n",
    "<pre>\n",
    "schedule presync_registerboundary in PreSync_Registration\n",
    "{\n",
    "  LANG: C\n",
    "} \"register boundaries\"\n",
    "\n",
    "schedule presync_SelectBCs in PreSync_Selection\n",
    "{\n",
    "  LANG: C\n",
    "} \"select boundary conditions\"\n",
    "\n",
    "schedule energy_SelectBCs in PreSync_Selection\n",
    "{\n",
    "  LANG: C\n",
    "} \"select boundary conditions\"\n",
    "</pre>\n",
    "</div>\n",
    "\n",
    "While the selectBCs functions could be combined, they remain separate to provide backward compatibility. However, we can't simply add this to the schedule.ccl and expect it to work. We need to turn off the new scheduled routines and turn on the old scheduled routines if running in backward-compatible mode. This is accomplished by using the routine\n",
    "<div style='border-style: solid; border-color: black; padding: 5px;'>\n",
    "<pre>\n",
    "CCTK_ParameterValInt(\"use_psync\",\"Carpet\")\n",
    "</pre>\n",
    "</div>\n",
    "to determine which should run. If it equals 1, then PreSync is active. If it equals 0, then the backward-compatible routines should be used."
   ]
  },
  {
   "cell_type": "markdown",
   "metadata": {},
   "source": [
    "The changes discussed above are implemented in the schedule.ccl below. This command will overwrite the old schedule.ccl with our new version."
   ]
  },
  {
   "cell_type": "code",
   "execution_count": null,
   "metadata": {
    "collapsed": true
   },
   "outputs": [],
   "source": [
    "%%writefile ~/Tutorial/CactusPre/repos/PresyncWave/OldWave/schedule.ccl\n",
    "# Schedule definitions for thorn OldWave\n",
    "storage: rhs_vars[3], evo_vars[3], evo_divs, wave_energy[3]\n",
    "\n",
    "schedule oldsync_wave_init at CCTK_POSTINITIAL\n",
    "{\n",
    "  LANG: C\n",
    "  READS: Grid::x(interior), y\n",
    "  WRITES: OldWave::evo_vars(interior)\n",
    "  SYNC: OldWave::evo_vars\n",
    "} \"initial condition\"\n",
    "\n",
    "schedule oldsync_wave_evolve in MoL_CalcRHS\n",
    "{\n",
    "  LANG: C\n",
    "  READS: OldWave::evo_divs(interior), phi\n",
    "  WRITES: OldWave::rhs_vars(interior)\n",
    "  SYNC: OldWave::rhs_vars\n",
    "} \"Evolve loop\"\n",
    "\n",
    "schedule oldsync_derivatives in MoL_CalcRHS before oldsync_wave_evolve\n",
    "{\n",
    "  LANG: C\n",
    "  READS: OldWave::evo_vars(everywhere)\n",
    "  WRITES: OldWave::evo_divs(interior)\n",
    "} \"Compute derivatives\"\n",
    "\n",
    "schedule oldsync_registervars in MoL_Register\n",
    "{\n",
    "  LANG: C\n",
    "  OPTIONS: META\n",
    "}\"Register funwave variables for MoL\"\n",
    "\n",
    "#################################################\n",
    "##             Boundary Routines               ##\n",
    "#################################################\n",
    "\n",
    "# In this function, we register boundary conditions\n",
    "# with Carpet (not thorn Boundary). This new way\n",
    "# of doing things makes it possible for Carpet to\n",
    "# fill in the exterior of the variable at the\n",
    "# same time it performs a sync.\n",
    "if(CCTK_ParameterValInt(\"use_psync\",\"Carpet\") == 1) {\n",
    "  schedule oldsync_registerboundary in PreSync_Registration\n",
    "  {\n",
    "    LANG: C\n",
    "  } \"register boundaries\"\n",
    "\n",
    "  schedule oldsync_evolve_SelectBCs in PreSync_Selection\n",
    "  {\n",
    "    LANG: C\n",
    "  } \"select boundary conditions\"\n",
    "\n",
    "  schedule oldsync_energy_SelectBCs in PreSync_Selection\n",
    "  {\n",
    "    LANG: C\n",
    "  } \"select boundary conditions\"\n",
    "}\n",
    "\n",
    "if(CCTK_ParameterValInt(\"use_psync\",\"Carpet\") == 0) {\n",
    "  schedule group PSWave_Boundaries in MoL_CalcRHS before oldsync_derivatives\n",
    "  {\n",
    "  } \"boundary condition group\"\n",
    "  schedule group PSWave_Boundaries in CCTK_ANALYSIS before oldsync_energy\n",
    "  {\n",
    "  } \"boundary condition group\"\n",
    "\n",
    "  schedule group PSWave_Boundaries at POSTRESTRICT\n",
    "  {\n",
    "  } \"boundary condition group\"\n",
    "\n",
    "  schedule oldsync_registerboundary at CCTK_WRAGH\n",
    "  {\n",
    "    LANG: C\n",
    "  } \"register boundaries\"\n",
    "\n",
    "  schedule oldsync_evolve_SelectBCs in PSWave_Boundaries\n",
    "  {\n",
    "    LANG: C\n",
    "  } \"select boundary conditions\"\n",
    "\n",
    "  schedule GROUP ApplyBCs as PSWave_ApplyBCs in PSWave_Boundaries after oldsync_evolve_selectBCs\n",
    "  {\n",
    "  } \"Apply boundary conditions\"\n",
    "\n",
    "  schedule group Energy_Boundary at CCTK_ANALYSIS after oldsync_energy\n",
    "  {\n",
    "  } \"boundary condition group\"\n",
    "\n",
    "  schedule oldsync_energy_SelectBCs in Energy_Boundary\n",
    "  {\n",
    "    LANG: C\n",
    "  } \"select boundary conditions\"\n",
    "\n",
    "  schedule GROUP ApplyBCs as Energy_ApplyBCs in Energy_Boundary after oldsync_energy_SelectBCs\n",
    "  {\n",
    "  } \"Apply boundary conditions\"\n",
    "}\n",
    "\n",
    "#################################################\n",
    "##            Energy Calculations              ##\n",
    "#################################################\n",
    "\n",
    "schedule oldsync_energy at CCTK_ANALYSIS\n",
    "{\n",
    "  LANG: C\n",
    "  READS: OldWave::evo_vars(everywhere)\n",
    "  WRITES: OldWave::energy(interior)\n",
    "  SYNC: OldWave::wave_energy\n",
    "} \"Calculate energy\""
   ]
  },
  {
   "cell_type": "markdown",
   "metadata": {},
   "source": [
    "We now have a working schedule.ccl. None of the other ccl files need to be changed, so we can move on to the source code. First, we need to look at the PSWave.h. This provides the function type used to pass the boundary routines to the Boundary thorn. To do this, we could have used the Boundary.h thorn from Boundary or included the typedef itself. We elected to perform the latter, as we can see below."
   ]
  },
  {
   "cell_type": "code",
   "execution_count": null,
   "metadata": {
    "collapsed": true
   },
   "outputs": [],
   "source": [
    "%cat ~/Tutorial/CactusPre/repos/PresyncWave/OldWave/src/PSWave.h"
   ]
  },
  {
   "cell_type": "markdown",
   "metadata": {},
   "source": [
    "For PreSync, we replace this with the header file PreSync.h. This header file is located in the flesh, so it is readily available to all thorns. It contains the boundary_function typedef as well as the definitions for the regions of validity. In addition to variable registration, this is included whenever a function needs to access the validity of a variable."
   ]
  },
  {
   "cell_type": "code",
   "execution_count": null,
   "metadata": {
    "collapsed": true
   },
   "outputs": [],
   "source": [
    "%%writefile ~/Tutorial/CactusPre/repos/PresyncWave/OldWave/src/PSWave.h\n",
    "#ifndef _PSWave_H_\n",
    "#define _PSWave_H_\n",
    "\n",
    "#include \"PreSync.h\"\n",
    "\n",
    "#ifdef __cplusplus\n",
    "extern \"C\" {\n",
    "#endif\n",
    "\n",
    "/* prototype for routine registered as providing 'zero' boundary condition */\n",
    "CCTK_INT fun_stwave(const cGH *cctkGH, CCTK_INT num_vars, CCTK_INT *var_indices,\n",
    "                  CCTK_INT *faces, CCTK_INT *widths, CCTK_INT *table_handles);\n",
    "\n",
    "/* prototype for routine registered as providing 'symmetry' and 'anti-symmetry' boundary conditions */\n",
    "CCTK_INT fun_bf2(const cGH *cctkGH, CCTK_INT num_vars, CCTK_INT *var_indices,\n",
    "                  CCTK_INT *faces, CCTK_INT *widths, CCTK_INT *table_handles);\n",
    "\n",
    "#ifdef __cplusplus\n",
    "}\n",
    "#endif\n",
    "\n",
    "#endif /* _PSWave_H_ */"
   ]
  },
  {
   "cell_type": "markdown",
   "metadata": {},
   "source": [
    "The next step is very easy, though it will be disproportionately long in the notebook. The current method for accessing variables in Cactus is to use the DECLARE_CCTK_ARGUMENTS macro. However, this declares *every* variable and not just those needed by the function. To reduce these declarations and provide additional error-checking, PreSync provides new (optional) macros which are generated based on the read/write declarations. Each scheduled function has its own macro which only provides access to declared variables. In addition, read-only declarations are declared as const, which provides additional verification for read/write declarations. To include these new macros, we add\n",
    "```\n",
    "#include \"cctk_Arguments_Checked.h\"\n",
    "```\n",
    "and replace DECLARE_CCTK_ARGUMENTS with DECLARE_CCTK_ARGUMENTS_FunctionName. This is done below for all the code in the OldWave thorn."
   ]
  },
  {
   "cell_type": "code",
   "execution_count": null,
   "metadata": {
    "collapsed": true
   },
   "outputs": [],
   "source": [
    "%%writefile ~/Tutorial/CactusPre/repos/PresyncWave/OldWave/src/energy.cc\n",
    "#include \"cctk.h\" \n",
    "#include \"cctk_Arguments.h\"\n",
    "#include \"cctk_Arguments_Checked.h\"\n",
    "#include \"cctk_Parameters.h\"\n",
    "#include \"iostream\"\n",
    "\n",
    "void oldsync_energy(CCTK_ARGUMENTS)\n",
    "{\n",
    "  DECLARE_CCTK_ARGUMENTS_oldsync_energy\n",
    "  DECLARE_CCTK_PARAMETERS;\n",
    "      \n",
    "  const int imin0=cctk_nghostzones[0];\n",
    "  const int imin1=cctk_nghostzones[1];\n",
    "  const int imin2=cctk_nghostzones[2];\n",
    "  const int imax0=cctk_lsh[0] - cctk_nghostzones[0];\n",
    "  const int imax1=cctk_lsh[1] - cctk_nghostzones[1];\n",
    "  const int imax2=cctk_lsh[2] - cctk_nghostzones[2];\n",
    "  const int zero = CCTK_GFINDEX3D(cctkGH,0,0,0);\n",
    "  const int di = (cctk_lsh[0]==1) ? 0:CCTK_GFINDEX3D(cctkGH,1,0,0) - zero;\n",
    "  const int dj = (cctk_lsh[1]==1) ? 0:CCTK_GFINDEX3D(cctkGH,0,1,0) - zero;\n",
    "  const int dk = (cctk_lsh[2]==1) ? 0:CCTK_GFINDEX3D(cctkGH,0,0,1) - zero;\n",
    "  #pragma omp parallel\n",
    "  CCTK_LOOP3(calc_energy,i,j,k,\n",
    "    imin0,imin1,imin2,imax0,imax1,imax2,\n",
    "    cctk_ash[0],cctk_ash[1],cctk_ash[2])\n",
    "  {\n",
    "    int cc = CCTK_GFINDEX3D(cctkGH,i,j,k);\n",
    "    double psix = (psi[cc+di]-psi[cc-di])/(2.0*CCTK_DELTA_SPACE(0));\n",
    "    double psiy = (psi[cc+dj]-psi[cc-dj])/(2.0*CCTK_DELTA_SPACE(1));\n",
    "    double psiz = (psi[cc+dk]-psi[cc-dk])/(2.0*CCTK_DELTA_SPACE(2));\n",
    "    energy[cc] = phi[cc]*phi[cc] + psix*psix +\n",
    "      psiy*psiy + psiz*psiz;\n",
    "  }\n",
    "  CCTK_ENDLOOP3(calc_energy);\n",
    "}"
   ]
  },
  {
   "cell_type": "code",
   "execution_count": null,
   "metadata": {
    "collapsed": true
   },
   "outputs": [],
   "source": [
    "%%writefile ~/Tutorial/CactusPre/repos/PresyncWave/OldWave/src/Wave.cc\n",
    "#include <cctk.h>\n",
    "#include <cctk_Arguments.h>\n",
    "#include <cctk_Arguments_Checked.h>\n",
    "#include <cctk_Parameters.h>\n",
    "#include <iostream>\n",
    "\n",
    "#define sq(X) (X)*(X)\n",
    "\n",
    "extern \"C\"\n",
    "void oldsync_wave_init(CCTK_ARGUMENTS)\n",
    "{\n",
    "  DECLARE_CCTK_ARGUMENTS_oldsync_wave_init\n",
    "  DECLARE_CCTK_PARAMETERS\n",
    "\n",
    "  const int imin0=cctk_nghostzones[0];\n",
    "  const int imin1=cctk_nghostzones[1];\n",
    "  const int imin2=cctk_nghostzones[2];\n",
    "  const int imax0=cctk_lsh[0] - cctk_nghostzones[0];\n",
    "  const int imax1=cctk_lsh[1] - cctk_nghostzones[1];\n",
    "  const int imax2=cctk_lsh[2] - cctk_nghostzones[2];\n",
    "  CCTK_REAL x0 = x[CCTK_GFINDEX3D(cctkGH,cctk_lsh[0]/2,cctk_lsh[1]/2,cctk_lsh[2]/2)];\n",
    "  CCTK_REAL y0 = x[CCTK_GFINDEX3D(cctkGH,cctk_lsh[0]/2,cctk_lsh[1]/2,cctk_lsh[2]/2)];\n",
    "  #pragma omp parallel\n",
    "  CCTK_LOOP3(calc_oldsync_wave_init,\n",
    "    i,j,k, imin0,imin1,imin2, imax0,imax1,imax2,\n",
    "    cctk_ash[0],cctk_ash[1],cctk_ash[2])\n",
    "  {\n",
    "    int cc = CCTK_GFINDEX3D(cctkGH,i,j,k);\n",
    "    psi[cc] = exp(-sq(x[cc]-x0)-sq(y[cc]-y0));\n",
    "    phi[cc] = 0;\n",
    "  }\n",
    "  CCTK_ENDLOOP3(calc_oldsync_wave_init);\n",
    "}\n",
    "\n",
    "extern \"C\"\n",
    "void oldsync_wave_evolve(CCTK_ARGUMENTS)\n",
    "{\n",
    "  DECLARE_CCTK_ARGUMENTS_oldsync_wave_evolve;\n",
    "  DECLARE_CCTK_PARAMETERS;\n",
    "\n",
    "  const int imin0=cctk_nghostzones[0];\n",
    "  const int imin1=cctk_nghostzones[1];\n",
    "  const int imin2=cctk_nghostzones[2];\n",
    "  const int imax0=cctk_lsh[0] - cctk_nghostzones[0];\n",
    "  const int imax1=cctk_lsh[1] - cctk_nghostzones[1];\n",
    "  const int imax2=cctk_lsh[2] - cctk_nghostzones[2];\n",
    "  #pragma omp parallel\n",
    "  CCTK_LOOP3(calc_oldsync_wave_evol,\n",
    "    i,j,k, imin0,imin1,imin2, imax0,imax1,imax2,\n",
    "    cctk_ash[0],cctk_ash[1],cctk_ash[2])\n",
    "  {\n",
    "    int cc = CCTK_GFINDEX3D(cctkGH,i,j,k);\n",
    "    psi_rhs[cc] = phi[cc];\n",
    "    phi_rhs[cc] = dxx_psi[cc]+dyy_psi[cc]+dzz_psi[cc];\n",
    "  }\n",
    "  CCTK_ENDLOOP3(calc_oldsync_wave_evol);\n",
    "}\n",
    "\n",
    "extern \"C\"\n",
    "void oldsync_derivatives(CCTK_ARGUMENTS)\n",
    "{\n",
    "  DECLARE_CCTK_ARGUMENTS_oldsync_derivatives;\n",
    "  DECLARE_CCTK_PARAMETERS;\n",
    "\n",
    "  const int imin0=cctk_nghostzones[0];\n",
    "  const int imin1=cctk_nghostzones[1];\n",
    "  const int imin2=cctk_nghostzones[2];\n",
    "  const int imax0=cctk_lsh[0] - cctk_nghostzones[0];\n",
    "  const int imax1=cctk_lsh[1] - cctk_nghostzones[1];\n",
    "  const int imax2=cctk_lsh[2] - cctk_nghostzones[2];\n",
    "  const int zero = CCTK_GFINDEX3D(cctkGH,0,0,0);\n",
    "  const int di = (cctk_lsh[0]==1) ? 0:CCTK_GFINDEX3D(cctkGH,1,0,0) - zero;\n",
    "  const int dj = (cctk_lsh[1]==1) ? 0:CCTK_GFINDEX3D(cctkGH,0,1,0) - zero;\n",
    "  const int dk = (cctk_lsh[2]==1) ? 0:CCTK_GFINDEX3D(cctkGH,0,0,1) - zero;\n",
    "  assert(!std::isnan(psi[zero]));\n",
    "  #pragma omp parallel\n",
    "  CCTK_LOOP3(calc_oldsync_derivs,\n",
    "    i,j,k, imin0,imin1,imin2, imax0,imax1,imax2,\n",
    "    cctk_ash[0],cctk_ash[1],cctk_ash[2])\n",
    "  {\n",
    "    int cc = CCTK_GFINDEX3D(cctkGH,i,j,k);\n",
    "    dxx_psi[cc] = (psi[cc+di]+psi[cc-di]-2.0*psi[cc])/(CCTK_DELTA_SPACE(0)*CCTK_DELTA_SPACE(0));\n",
    "    dyy_psi[cc] = (psi[cc+dj]+psi[cc-dj]-2.0*psi[cc])/(CCTK_DELTA_SPACE(1)*CCTK_DELTA_SPACE(1));\n",
    "    dzz_psi[cc] = (psi[cc+dk]+psi[cc-dk]-2.0*psi[cc])/(CCTK_DELTA_SPACE(2)*CCTK_DELTA_SPACE(2));\n",
    "  }\n",
    "  CCTK_ENDLOOP3(calc_oldsync_derivs);\n",
    "}"
   ]
  },
  {
   "cell_type": "markdown",
   "metadata": {},
   "source": [
    "Congratulations! You've just changed your first thorn to use PreSync! To verify that we haven't broken backward compatibility, we can recompile and run the test in OldWave. The parameter file for this test is identical to the one we used earlier, except it calculates less iterations."
   ]
  },
  {
   "cell_type": "code",
   "execution_count": null,
   "metadata": {
    "collapsed": true
   },
   "outputs": [],
   "source": [
    "%cd ~/Tutorial/CactusPre/\n",
    "!./simfactory/bin/sim build -j 2 --thornlist=~/Tutorial/CactusPre/thornlists/thorns.th"
   ]
  },
  {
   "cell_type": "code",
   "execution_count": null,
   "metadata": {
    "collapsed": true
   },
   "outputs": [],
   "source": [
    "%cd ~/Tutorial/CactusPre/\n",
    "!./simfactory/bin/sim create-run mytest --testsuite --procs 2 --num-threads 1 --select-tests PresyncWave/OldWave"
   ]
  },
  {
   "cell_type": "markdown",
   "metadata": {},
   "source": [
    "We see that the oldsync test in OldWave still passes with our changes to the code. The default settings in PreSync use the old synchronization method to preserve backward compatibility with old parameter files. Therefore, this is using the old synchronization method. We can actually use some of the error-checking added in PreSync without activating PreSync. To do this, we just add a single parameter to the parameter file,\n",
    "```\n",
    "Carpet::psync_error = \"yes\"\n",
    "```\n",
    "which turns on the features which produce errors if a function tries to access variables which are not valid. This requires that all the code being used has the READ/WRITE declarations, but it still uses the old SYNC statements for triggering synchronization and the old Boundary thorn's boundary condition application."
   ]
  },
  {
   "cell_type": "code",
   "execution_count": null,
   "metadata": {
    "collapsed": true
   },
   "outputs": [],
   "source": [
    "%%writefile ~/Tutorial/CactusPre/repos/PresyncWave/OldWave/test/oldsync.par\n",
    "ActiveThorns = \"OldWave Boundary\"\n",
    "ActiveThorns = \"CoordBase Carpet CartGrid3D MoL SymBase\"\n",
    "ActiveThorns = \"CarpetReduce CarpetIOBasic CarpetIOASCII Time\"\n",
    "\n",
    "cactus::cctk_itlast = 25\n",
    "\n",
    "CartGrid3D::type = \"coordbase\"\n",
    "CartGrid3D::avoid_origin = \"no\"\n",
    "CoordBase::domainsize = \"minmax\"\n",
    "CoordBase::spacing    = \"gridspacing\"\n",
    "CoordBase::xmin = -5\n",
    "CoordBase::xmax = 5\n",
    "CoordBase::ymin = -5\n",
    "CoordBase::ymax = 5\n",
    "CoordBase::zmin = 0\n",
    "CoordBase::zmax = 0\n",
    "CoordBase::dx = 0.2\n",
    "CoordBase::dy = 0.2\n",
    "CoordBase::boundary_size_z_lower = 0\n",
    "CoordBase::boundary_size_z_upper = 0\n",
    "CoordBase::boundary_shiftout_z_lower = 1\n",
    "CoordBase::boundary_shiftout_z_upper = 1\n",
    "\n",
    "Time::dtfac = 0.2\n",
    "\n",
    "Carpet::domain_from_coordbase = \"yes\"\n",
    "Carpet::ghost_size_x = 1\n",
    "Carpet::ghost_size_y = 1\n",
    "Carpet::ghost_size_z = 0\n",
    "\n",
    "Carpet::psync_error = \"yes\"\n",
    "\n",
    "IO::out_dir = $parfile\n",
    "\n",
    "IOBasic::outInfo_every = 5\n",
    "IOBasic::outInfo_vars =  \"OldWave::psi\"\n",
    "\n",
    "IOASCII::out2D_every = 5\n",
    "IOASCII::out2D_xyplane_z = 0\n",
    "IOASCII::out2D_vars = \"\n",
    "  OldWave::energy\n",
    "  OldWave::psi\n",
    "  OldWave::phi\n",
    "\"\n",
    "\n",
    "CarpetIOASCII::compact_format = true\n",
    "IOASCII::output_ghost_points = \"no\"\n",
    "\n",
    "# MoL\n",
    "MoL::ODE_Method = \"RK3\"\n",
    "\n",
    "OldWave::BCtype = \"symmetry\""
   ]
  },
  {
   "cell_type": "markdown",
   "metadata": {},
   "source": [
    "Before we re-run the test to check that this parameter file works, we should add a new test that uses PreSync as well. First, we can copy the old test's output data and parameter file. Then, we can turn on the PreSync parameters to activate it. Finally, we change the active thorn Boundary to Boundary2. This thorn provides the same boundary conditions as Boundary, but it uses PreSync."
   ]
  },
  {
   "cell_type": "code",
   "execution_count": null,
   "metadata": {
    "collapsed": true,
    "scrolled": true
   },
   "outputs": [],
   "source": [
    "%cd ~/Tutorial/CactusPre/repos/PresyncWave/OldWave/test\n",
    "%cp -r ./oldsync/ ./presync/ \n",
    "%cp ./oldsync.par ./presync.par"
   ]
  },
  {
   "cell_type": "code",
   "execution_count": null,
   "metadata": {
    "collapsed": true
   },
   "outputs": [],
   "source": [
    "%%writefile ~/Tutorial/CactusPre/repos/PresyncWave/OldWave/test/presync.par\n",
    "ActiveThorns = \"OldWave Boundary2\"\n",
    "ActiveThorns = \"CoordBase Carpet CartGrid3D MoL SymBase\"\n",
    "ActiveThorns = \"CarpetReduce CarpetIOBasic CarpetIOASCII Time\"\n",
    "\n",
    "cactus::cctk_itlast = 25\n",
    "\n",
    "CartGrid3D::type = \"coordbase\"\n",
    "CartGrid3D::avoid_origin = \"no\"\n",
    "CoordBase::domainsize = \"minmax\"\n",
    "CoordBase::spacing    = \"gridspacing\"\n",
    "CoordBase::xmin = -5\n",
    "CoordBase::xmax = 5\n",
    "CoordBase::ymin = -5\n",
    "CoordBase::ymax = 5\n",
    "CoordBase::zmin = 0\n",
    "CoordBase::zmax = 0\n",
    "CoordBase::dx = 0.2\n",
    "CoordBase::dy = 0.2\n",
    "CoordBase::boundary_size_z_lower = 0\n",
    "CoordBase::boundary_size_z_upper = 0\n",
    "CoordBase::boundary_shiftout_z_lower = 1\n",
    "CoordBase::boundary_shiftout_z_upper = 1\n",
    "\n",
    "Time::dtfac = 0.2\n",
    "\n",
    "Carpet::domain_from_coordbase = \"yes\"\n",
    "Carpet::ghost_size_x = 1\n",
    "Carpet::ghost_size_y = 1\n",
    "Carpet::ghost_size_z = 0\n",
    "\n",
    "Carpet::use_psync = \"yes\"\n",
    "Carpet::psync_only = \"yes\"\n",
    "Carpet::psync_error = \"yes\"\n",
    "\n",
    "IO::out_dir = $parfile\n",
    "\n",
    "IOBasic::outInfo_every = 5\n",
    "IOBasic::outInfo_vars =  \"OldWave::psi\"\n",
    "\n",
    "IOASCII::out2D_every = 5\n",
    "IOASCII::out2D_xyplane_z = 0\n",
    "IOASCII::out2D_vars = \"\n",
    "  OldWave::energy\n",
    "  OldWave::psi\n",
    "  OldWave::phi\n",
    "\"\n",
    "\n",
    "CarpetIOASCII::compact_format = true\n",
    "IOASCII::output_ghost_points = \"no\"\n",
    "\n",
    "# MoL\n",
    "MoL::ODE_Method = \"RK3\"\n",
    "\n",
    "OldWave::BCtype = \"symmetry\""
   ]
  },
  {
   "cell_type": "markdown",
   "metadata": {},
   "source": [
    "Now, we add this new test to the test.ccl."
   ]
  },
  {
   "cell_type": "code",
   "execution_count": null,
   "metadata": {
    "collapsed": true
   },
   "outputs": [],
   "source": [
    "%%writefile ~/Tutorial/CactusPre/repos/PresyncWave/OldWave/test/test.ccl\n",
    "TEST oldsync\n",
    "{\n",
    "}\n",
    "\n",
    "TEST presync\n",
    "{\n",
    "}"
   ]
  },
  {
   "cell_type": "markdown",
   "metadata": {},
   "source": [
    "To review, we added PreSync error-checking to the oldsync test, and we added the presync test. The presync test uses the output from oldsync because it should output the same results if it is working correctly."
   ]
  },
  {
   "cell_type": "code",
   "execution_count": null,
   "metadata": {
    "collapsed": true
   },
   "outputs": [],
   "source": [
    "%cd ~/Tutorial/CactusPre/\n",
    "!./simfactory/bin/sim create-run testsuite --testsuite --procs 2 --num-threads 1 --select-tests PresyncWave/OldWave"
   ]
  },
  {
   "cell_type": "markdown",
   "metadata": {},
   "source": [
    "You should see that both tests pass. As a final note, there is one more useful feature added in PreSync. We can now see how many synchronization calls occur in a given run. We can compare the number of synchronization calls in each by extracting the synchronization count from the log files."
   ]
  },
  {
   "cell_type": "code",
   "execution_count": null,
   "metadata": {
    "collapsed": true
   },
   "outputs": [],
   "source": [
    "%cd ~/simulations/testsuite/output-0000/TEST/sim/OldWave\n",
    "\n",
    "import re\n",
    "\n",
    "log1 = open(\"oldsync.log\", \"r\")\n",
    "log2 = open(\"presync.log\", \"r\")\n",
    "\n",
    "for line in log1:\n",
    "    if re.match(\"(.*)variable synchronizations occurred(.*)\", line):\n",
    "        m = re.match(\"(.*) ([0-9]+) (.*)\", line)\n",
    "        print(\"oldsync synchronized\",m.group(2),\"times\")\n",
    "for line in log2:\n",
    "    if re.match(\"(.*)variable synchronizations occurred(.*)\", line):\n",
    "        m = re.match(\"(.*) ([0-9]+) (.*)\", line)\n",
    "        print(\"presync synchronized\",m.group(2),\"times\")\n"
   ]
  },
  {
   "cell_type": "markdown",
   "metadata": {},
   "source": [
    "Interestingly, the PreSync-enabled run has less synchronizations. This has been found to be a consistent feature of the new update, and most tests in the testsuite take ~20% less time to run due to this change. Since PreSync is not yet compatible with Carpet AMR, the exact speed-up of PreSync for full-scale simulations is not determinable at this time. Still, these results show that PreSync provides significant improvements to the Cactus Framework."
   ]
  },
  {
   "cell_type": "markdown",
   "metadata": {
    "collapsed": true
   },
   "source": [
    "<table><tr><td>This work sponsored by NSF grants <a href=\"https://www.nsf.gov/awardsearch/showAward?AWD_ID=1550551\"> OAC 1550551</a>  <a href=\"https://www.nsf.gov/awardsearch/showAward?AWD_ID=1539567\"><td><img src=\"https://www.nsf.gov/awardsearch/images/common/nsf_logo_bottom.png\"></tr></table>"
   ]
  }
 ],
 "metadata": {
  "kernelspec": {
   "display_name": "Python 3",
   "language": "python",
   "name": "python3"
  },
  "language_info": {
   "codemirror_mode": {
    "name": "ipython",
    "version": 3
   },
   "file_extension": ".py",
   "mimetype": "text/x-python",
   "name": "python",
   "nbconvert_exporter": "python",
   "pygments_lexer": "ipython3",
   "version": "3.5.3"
  }
 },
 "nbformat": 4,
 "nbformat_minor": 2
}
