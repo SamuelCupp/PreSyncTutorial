{
 "cells": [
  {
   "cell_type": "markdown",
   "metadata": {},
   "source": [
    "![cactus](http://cactuscode.org/global/images/cactuslogo.png)\n",
    "# Tutorial 2: Reworking Symmetry Boundary Conditions"
   ]
  },
  {
   "cell_type": "markdown",
   "metadata": {},
   "source": [
    "If you still have the Tutorial directory from the first tutorial, you do not need to run these commands. If you need to rebuild the toolkit from scratch, you can run this without needing anything from the previous tutorial."
   ]
  },
  {
   "cell_type": "code",
   "execution_count": null,
   "metadata": {
    "collapsed": true,
    "scrolled": true
   },
   "outputs": [],
   "source": [
    "%cd ~/\n",
    "%mkdir -p Tutorial\n",
    "%cd ~/Tutorial\n",
    "!curl -kLO https://raw.githubusercontent.com/gridaphobe/CRL/ET_2018_02/GetComponents\n",
    "!chmod a+x ./GetComponents\n",
    "!echo no|./GetComponents --parallel ~/PreSyncTutorial/thorns.th\n",
    "%cd ~/Tutorial/CactusPre\n",
    "!./simfactory/bin/sim setup-silent\n",
    "%cd ~/Tutorial/CactusPre\n",
    "!time ./simfactory/bin/sim build -j 2 --thornlist=~/Tutorial/CactusPre/thornlists/thorns.th"
   ]
  },
  {
   "cell_type": "markdown",
   "metadata": {},
   "source": [
    "<h1>Using Symmetry BCs</h1>"
   ]
  },
  {
   "cell_type": "markdown",
   "metadata": {},
   "source": [
    "In the first tutorial, we successfully updated a thorn to use PreSync. This demonstrated two different update types:\n",
    "1. updating a thorn that doesn't include boundary routines\n",
    "    1. add READ/WRITE declarations to scheduled functions\n",
    "    2. place all old boundary scheduling into a legacy if statement\n",
    "    3. add scheduling of BC selection routines in the PreSync_Selection group\n",
    "    4. change DECLARE_CCTK_ARGUMENTS to the new macro and include the cctk_Arguments_Checked.h header file\n",
    "2. Updating a boundary condition registered and applied using the Boundary thorn\n",
    "    1. apply the changes for a standard thorn\n",
    "    2. include the PreSync.h header file in the files with the boundary condition and registration functions\n",
    "\n",
    "The second case has an important qualifier: it was specifically for boundary conditions which use Boundary to apply their boundary conditions. How do we change a boundary routine which doesn't use Boundary? In addition to this, there exists another less obvious case to consider. Symmetry boundary conditions (scheduled in BoundaryConditions group in Boundary) need to be applied to all variables, unlike physical boundary conditions. This means that PreSync needs to use a different system to apply them than the physical boundary conditions.\n",
    "\n",
    "in this tutorial, we examine the symmetry boundary condition registered by the thorn ReflectionSymmetry thorn and how this thorn is changed to use PreSync. To start, we need to access ReflectionSymmetry without the PreSync changes. To do this, we will copy the master branch into the Tutorial directory so we may compare more easily inside this notebook."
   ]
  },
  {
   "cell_type": "code",
   "execution_count": null,
   "metadata": {
    "collapsed": true,
    "scrolled": true
   },
   "outputs": [],
   "source": [
    "%cd ~/Tutorial/CactusPre/repos/cactusnumerical\n",
    "!git checkout master\n",
    "%cp -r ReflectionSymmetry ~/Tutorial/\n",
    "!git checkout presync"
   ]
  },
  {
   "cell_type": "markdown",
   "metadata": {},
   "source": [
    "Below, we use diff to see how the schedule.ccl changed for PreSync. The first difference is simply a renamed function, so we can ignore that change. The second is a little more involved. Originally, symmetry boundary conditions were applied by the Boundary thorn. Symmetry functions were registered with Symbase, and then the ApplyBC function was scheduled inside the BoundaryConditions group provided by the Boundary thorn. This scheduled function should only run if PreSync is not active, so it checks the value of use_psync. In addition, the name changes from ReflectionSymmetry_ApplyBC to Old_ReflectionSymmetry_ApplyBC. This is because the argument lists are different for the two functions, so they must be declared separately. We will see the details of this change later."
   ]
  },
  {
   "cell_type": "code",
   "execution_count": null,
   "metadata": {
    "collapsed": true,
    "scrolled": true
   },
   "outputs": [],
   "source": [
    "!diff ~/Tutorial/CactusPre/repos/cactusnumerical/ReflectionSymmetry/schedule.ccl ~/Tutorial/ReflectionSymmetry/schedule.ccl"
   ]
  },
  {
   "cell_type": "markdown",
   "metadata": {},
   "source": [
    "Next, we need to look at the interface.ccl. Below, we can see that a new function has been added named Boundary_RegisterSymmetryBC. This is a new function provided by Boundary2 to register symmetry boundary conditions with PreSync. The implementation is very similar to the Boundary_RegisterPhysicalBC provided by Boundary and Boundary2. Any thorn which provides symmetry boundary conditions must use this function to properly interface with PreSync. Also, most symmetry functions use Boundary_SelectedGVs. To properly implement the new function later, we must change the REQUIRES to USES. This is because it is only provided by Boundary, not Boundary2, and REQUIRES will demand that it is provided even though it is not used."
   ]
  },
  {
   "cell_type": "code",
   "execution_count": null,
   "metadata": {
    "collapsed": true,
    "scrolled": true
   },
   "outputs": [],
   "source": [
    "!diff ~/Tutorial/CactusPre/repos/cactusnumerical/ReflectionSymmetry/interface.ccl ~/Tutorial/ReflectionSymmetry/interface.ccl"
   ]
  },
  {
   "cell_type": "markdown",
   "metadata": {},
   "source": [
    "We can now move to the source code. Several files use the DECLARE_CCTK_ARGUMENTS macro, so these are changed to the new macro. However, this is a simple change, so we won't discuss it further. The next file with meaningful changes is register.c, which contains the function that registers the symmetry boundary condition with SymBase. The first difference is just a new name for the function, which we saw earlier in the schedule.ccl. the second change swaps out the macros. The last change adds several new lines of code. We see that it is only activated if PreSync is turned on, in which case it calls the Boundary_RegisterSymmetryBC function. We could also have added a completely new function to register with PreSync, but we chose to just have a single registration function."
   ]
  },
  {
   "cell_type": "code",
   "execution_count": null,
   "metadata": {
    "collapsed": true,
    "scrolled": true
   },
   "outputs": [],
   "source": [
    "!diff ~/Tutorial/CactusPre/repos/cactusnumerical/ReflectionSymmetry/src/register.c ~/Tutorial/ReflectionSymmetry/src/register.c"
   ]
  },
  {
   "cell_type": "markdown",
   "metadata": {},
   "source": [
    "We only have two more files with changes! The first is the header file Symmetry.h. For PreSync, we included PreSync.h and also included a prototype for the ApplyBC function. The prototyping is so we can pass that function in the Boundary_RegisterSymmetryBC call. In this case, we also removed some unnecessary prototyping lines, but they could have been left with no effect."
   ]
  },
  {
   "cell_type": "code",
   "execution_count": null,
   "metadata": {
    "collapsed": true,
    "scrolled": true
   },
   "outputs": [],
   "source": [
    "!diff ~/Tutorial/CactusPre/repos/cactusnumerical/ReflectionSymmetry/src/reflection.h ~/Tutorial/ReflectionSymmetry/src/reflection.h"
   ]
  },
  {
   "cell_type": "markdown",
   "metadata": {},
   "source": [
    "The last file,  has the most significant changes, as it contains the symmetry function ReflectionSymmetry_Apply. Below, we show the function declarations, including their argument lists.\n",
    "\n",
    "Old function:\n",
    "<div style='border-style: solid; border-color: black; padding: 5px;'>\n",
    "<pre>\n",
    "void ReflectionSymmetry_Apply(CCTK_ARGUMENTS) {\n",
    "  DECLARE_CCTK_ARGUMENTS;\n",
    "</pre>\n",
    "</div>\n",
    "\n",
    "\n",
    "New function:\n",
    "<div style='border-style: solid; border-color: black; padding: 5px;'>\n",
    "<pre>\n",
    "\n",
    "void ReflectionSymmetry_Apply(const cGH *GH, CCTK_INT nvars, CCTK_INT *indices,\n",
    "                 CCTK_INT *faces, CCTK_INT *boundary_widths,\n",
    "                 CCTK_INT *table_handle) {\n",
    "</pre>\n",
    "</div>\n",
    "\n",
    "\n",
    "The old declaration takes CCTK_ARGUMENTS as its only arguments, as it is a scheduled function. The new function instead takes several arguments. These are identical to the arguments passed to physical boundary functions. This change removes several function calls within symmetry boundary condition functions, as we'll soon see."
   ]
  },
  {
   "cell_type": "markdown",
   "metadata": {},
   "source": [
    "Let us examine the two functions in their entirety to see what changed inside the functions. The old function declares the variables that are arguments in the new function, and it then uses the Boundary_SelectedGVs function provided by the Boundary thorn to fill in the correct data. Then there's a loop over the variables that calls several internal routines to apply the boundary condition. Finally, the allocated variables are freed.\n",
    "\n",
    "<div style='border-style: solid; border-color: black; padding: 5px;'>\n",
    "<pre>\n",
    "void ReflectionSymmetry_Apply (CCTK_ARGUMENTS)\n",
    "{\n",
    "  DECLARE_CCTK_ARGUMENTS;\n",
    "  \n",
    "  int nvars;\n",
    "  CCTK_INT * restrict indices;\n",
    "  CCTK_INT * restrict faces;\n",
    "  CCTK_INT * restrict widths;\n",
    "  CCTK_INT * restrict tables;\n",
    "  int vi;\n",
    "  int dim;\n",
    "  int * restrict stencil;\n",
    "  int i;\n",
    "  int istat;\n",
    "  int ierr;\n",
    "  \n",
    "  if (! cctkGH) {\n",
    "    CCTK_WARN (0, \"Argument cctkGH is NULL\");\n",
    "  }\n",
    "  \n",
    "  nvars = Boundary_SelectedGVs (cctkGH, 0, NULL, NULL, NULL, NULL, NULL);\n",
    "  if (nvars < 0) {\n",
    "    CCTK_WARN (0, \"Internal error in Boundary_SelectedGVs\");\n",
    "  }\n",
    "  \n",
    "  if (nvars == 0) {\n",
    "    /* Nothing to do */\n",
    "    return;\n",
    "  }\n",
    "  \n",
    "  indices = malloc (nvars * sizeof *indices);\n",
    "  if (! indices) {\n",
    "    CCTK_WARN (0, \"Out of memory\");\n",
    "  }\n",
    "  faces = malloc (nvars * sizeof *faces);\n",
    "  if (! faces) {\n",
    "    CCTK_WARN (0, \"Out of memory\");\n",
    "  }\n",
    "  widths = malloc (nvars * sizeof *widths);\n",
    "  if (! widths) {\n",
    "    CCTK_WARN (0, \"Out of memory\");\n",
    "  }\n",
    "  tables = malloc (nvars * sizeof *tables);\n",
    "  if (! tables) {\n",
    "    CCTK_WARN (0, \"Out of memory\");\n",
    "  }\n",
    "  \n",
    "  istat =  Boundary_SelectedGVs\n",
    "    (cctkGH, nvars, indices, faces, widths, tables, 0);\n",
    "  if (istat != nvars) {\n",
    "    CCTK_WARN (0, \"Internal error in Boundary_SelectedGVs\");\n",
    "  }\n",
    "  \n",
    "  for (i=0; i<nvars; ++i) {\n",
    "    vi = indices[i];\n",
    "    if (vi < 0 || vi >= CCTK_NumVars()) {\n",
    "      CCTK_WARN (0, \"Illegal variable index\");\n",
    "    }\n",
    "    \n",
    "    if (widths[i] < 0) {\n",
    "      CCTK_WARN (0, \"Illegal boundary width\");\n",
    "    }\n",
    "    \n",
    "    dim = CCTK_GroupDimFromVarI (vi);\n",
    "    if (dim < 0) {\n",
    "      CCTK_WARN (0, \"Illegal dimension\");\n",
    "    }\n",
    "    \n",
    "    stencil = malloc (dim * sizeof *stencil);\n",
    "    if (! stencil) {\n",
    "      CCTK_WARN (0, \"Out of memory\");\n",
    "    }\n",
    "    ierr = CCTK_GroupnghostzonesVI (cctkGH, dim, stencil, vi);\n",
    "    if (ierr) {\n",
    "      CCTK_WARN (0, \"Internal error in CCTK_GroupnghostzonesVI\");\n",
    "    }\n",
    "    \n",
    "    CheckBoundaryParameters (cctkGH, vi, stencil);\n",
    "    \n",
    "    ierr = BndReflectVI (cctkGH, vi);\n",
    "    if (ierr) {\n",
    "      CCTK_WARN (0, \"Internal error in BndReflectVI\");\n",
    "    }\n",
    "    \n",
    "    free (stencil);\n",
    "  }\n",
    "  \n",
    "  free (indices);\n",
    "  free (faces);\n",
    "  free (widths);\n",
    "  free (tables);\n",
    "}\n",
    "</pre>\n",
    "</div>"
   ]
  },
  {
   "cell_type": "markdown",
   "metadata": {},
   "source": [
    "In contrast, here is the new version of the function. Since the variables that were retrieved from Boundary are passed in directly, we no longer need the majority of the code. In the case of ReflectionSymmetry, these variables are not actually used in the remainder of the code. This is not necessarily true for all symmetry functions, so it still needs to use the same argument list as all other symmetry boundary conditions. Many of these error-checking lines could likely be removed as well. For instance, the first check is unnecessary, as the passed variable index is guarranteed to be a legitimate value. \n",
    "<div style='border-style: solid; border-color: black; padding: 5px;'>\n",
    "<pre>\n",
    "void ReflectionSymmetry_Apply(const cGH *cctkGH, CCTK_INT nvars, CCTK_INT *indices,\n",
    "                 CCTK_INT *faces, CCTK_INT *widths,\n",
    "                 CCTK_INT *tables)\n",
    "{\n",
    "  \n",
    "  int vi;\n",
    "  int dim;\n",
    "  int * restrict stencil;\n",
    "  int i;\n",
    "  int istat;\n",
    "  int ierr;\n",
    "  \n",
    "  if (! cctkGH) {\n",
    "    CCTK_WARN (0, \"Argument cctkGH is NULL\");\n",
    "  }\n",
    "  \n",
    "  for (i=0; i<nvars; ++i) {\n",
    "    vi = indices[i];\n",
    "    if (vi < 0 || vi >= CCTK_NumVars()) {\n",
    "      CCTK_WARN (0, \"Illegal variable index\");\n",
    "    }\n",
    "    \n",
    "    if (widths[i] < 0) {\n",
    "      CCTK_WARN (0, \"Illegal boundary width\");\n",
    "    }\n",
    "    \n",
    "    dim = CCTK_GroupDimFromVarI (vi);\n",
    "    if (dim < 0) {\n",
    "      CCTK_WARN (0, \"Illegal dimension\");\n",
    "    }\n",
    "    \n",
    "    stencil = malloc (dim * sizeof *stencil);\n",
    "    if (! stencil) {\n",
    "      CCTK_WARN (0, \"Out of memory\");\n",
    "    }\n",
    "    ierr = CCTK_GroupnghostzonesVI (cctkGH, dim, stencil, vi);\n",
    "    if (ierr) {\n",
    "      CCTK_WARN (0, \"Internal error in CCTK_GroupnghostzonesVI\");\n",
    "    }\n",
    "    \n",
    "    CheckBoundaryParameters (cctkGH, vi, stencil);\n",
    "    \n",
    "    ierr = BndReflectVI (cctkGH, vi);\n",
    "    if (ierr) {\n",
    "      CCTK_WARN (0, \"Internal error in BndReflectVI\");\n",
    "    }\n",
    "    \n",
    "    free (stencil);\n",
    "  }\n",
    "}\n",
    "</pre>\n",
    "</div>"
   ]
  },
  {
   "cell_type": "markdown",
   "metadata": {},
   "source": [
    "Below, we see the new functions in their entirety. To update a symmetry boundary condition for PreSync, we first copy the original code and name it Old_FunctionName, to match the legacy scheduling we added earlier. Then, we remove the lines that allocate and fill the variables indices, faces, widths, and tables at the beginning of the function. We also remove the free() operations at the end.\n",
    "<div style='border-style: solid; border-color: black; padding: 5px;'>\n",
    "<pre>\n",
    "void ReflectionSymmetry_Apply(const cGH *cctkGH, CCTK_INT nvars, CCTK_INT *indices,\n",
    "                 CCTK_INT *faces, CCTK_INT *widths,\n",
    "                 CCTK_INT *tables)\n",
    "{\n",
    "  \n",
    "  int vi;\n",
    "  int dim;\n",
    "  int * restrict stencil;\n",
    "  int i;\n",
    "  int istat;\n",
    "  int ierr;\n",
    "  \n",
    "  if (! cctkGH) {\n",
    "    CCTK_WARN (0, \"Argument cctkGH is NULL\");\n",
    "  }\n",
    "  \n",
    "  for (i=0; i<nvars; ++i) {\n",
    "    vi = indices[i];\n",
    "    if (vi < 0 || vi >= CCTK_NumVars()) {\n",
    "      CCTK_WARN (0, \"Illegal variable index\");\n",
    "    }\n",
    "    \n",
    "    if (widths[i] < 0) {\n",
    "      CCTK_WARN (0, \"Illegal boundary width\");\n",
    "    }\n",
    "    \n",
    "    dim = CCTK_GroupDimFromVarI (vi);\n",
    "    if (dim < 0) {\n",
    "      CCTK_WARN (0, \"Illegal dimension\");\n",
    "    }\n",
    "    \n",
    "    stencil = malloc (dim * sizeof *stencil);\n",
    "    if (! stencil) {\n",
    "      CCTK_WARN (0, \"Out of memory\");\n",
    "    }\n",
    "    ierr = CCTK_GroupnghostzonesVI (cctkGH, dim, stencil, vi);\n",
    "    if (ierr) {\n",
    "      CCTK_WARN (0, \"Internal error in CCTK_GroupnghostzonesVI\");\n",
    "    }\n",
    "    \n",
    "    CheckBoundaryParameters (cctkGH, vi, stencil);\n",
    "    \n",
    "    ierr = BndReflectVI (cctkGH, vi);\n",
    "    if (ierr) {\n",
    "      CCTK_WARN (0, \"Internal error in BndReflectVI\");\n",
    "    }\n",
    "    \n",
    "    free (stencil);\n",
    "  }\n",
    "}\n",
    "\n",
    "/*************************************\n",
    "   This function exists to maintain\n",
    "   PreSync backward compatibility.\n",
    " *************************************/\n",
    "void\n",
    "Old_ReflectionSymmetry_Apply (CCTK_ARGUMENTS)\n",
    "{\n",
    "  DECLARE_CCTK_ARGUMENTS;\n",
    "  \n",
    "  int nvars;\n",
    "  CCTK_INT * restrict indices;\n",
    "  CCTK_INT * restrict faces;\n",
    "  CCTK_INT * restrict widths;\n",
    "  CCTK_INT * restrict tables;\n",
    "  int vi;\n",
    "  int dim;\n",
    "  int * restrict stencil;\n",
    "  int i;\n",
    "  int istat;\n",
    "  int ierr;\n",
    "  \n",
    "  if (! cctkGH) {\n",
    "    CCTK_WARN (0, \"Argument cctkGH is NULL\");\n",
    "  }\n",
    "  \n",
    "  nvars = Boundary_SelectedGVs (cctkGH, 0, NULL, NULL, NULL, NULL, NULL);\n",
    "  if (nvars < 0) {\n",
    "    CCTK_WARN (0, \"Internal error in Boundary_SelectedGVs\");\n",
    "  }\n",
    "  \n",
    "  if (nvars == 0) {\n",
    "    /* Nothing to do */\n",
    "    return;\n",
    "  }\n",
    "  \n",
    "  indices = malloc (nvars * sizeof *indices);\n",
    "  if (! indices) {\n",
    "    CCTK_WARN (0, \"Out of memory\");\n",
    "  }\n",
    "  faces = malloc (nvars * sizeof *faces);\n",
    "  if (! faces) {\n",
    "    CCTK_WARN (0, \"Out of memory\");\n",
    "  }\n",
    "  widths = malloc (nvars * sizeof *widths);\n",
    "  if (! widths) {\n",
    "    CCTK_WARN (0, \"Out of memory\");\n",
    "  }\n",
    "  tables = malloc (nvars * sizeof *tables);\n",
    "  if (! tables) {\n",
    "    CCTK_WARN (0, \"Out of memory\");\n",
    "  }\n",
    "  \n",
    "  istat =  Boundary_SelectedGVs\n",
    "    (cctkGH, nvars, indices, faces, widths, tables, 0);\n",
    "  if (istat != nvars) {\n",
    "    CCTK_WARN (0, \"Internal error in Boundary_SelectedGVs\");\n",
    "  }\n",
    "  \n",
    "  for (i=0; i<nvars; ++i) {\n",
    "    vi = indices[i];\n",
    "    if (vi < 0 || vi >= CCTK_NumVars()) {\n",
    "      CCTK_WARN (0, \"Illegal variable index\");\n",
    "    }\n",
    "    \n",
    "    if (widths[i] < 0) {\n",
    "      CCTK_WARN (0, \"Illegal boundary width\");\n",
    "    }\n",
    "    \n",
    "    dim = CCTK_GroupDimFromVarI (vi);\n",
    "    if (dim < 0) {\n",
    "      CCTK_WARN (0, \"Illegal dimension\");\n",
    "    }\n",
    "    \n",
    "    stencil = malloc (dim * sizeof *stencil);\n",
    "    if (! stencil) {\n",
    "      CCTK_WARN (0, \"Out of memory\");\n",
    "    }\n",
    "    ierr = CCTK_GroupnghostzonesVI (cctkGH, dim, stencil, vi);\n",
    "    if (ierr) {\n",
    "      CCTK_WARN (0, \"Internal error in CCTK_GroupnghostzonesVI\");\n",
    "    }\n",
    "    \n",
    "    CheckBoundaryParameters (cctkGH, vi, stencil);\n",
    "    \n",
    "    ierr = BndReflectVI (cctkGH, vi);\n",
    "    if (ierr) {\n",
    "      CCTK_WARN (0, \"Internal error in BndReflectVI\");\n",
    "    }\n",
    "    \n",
    "    free (stencil);\n",
    "  }\n",
    "  \n",
    "  free (indices);\n",
    "  free (faces);\n",
    "  free (widths);\n",
    "  free (tables);\n",
    "}\n",
    "</pre>\n",
    "</div>"
   ]
  },
  {
   "cell_type": "markdown",
   "metadata": {},
   "source": [
    "<h1>Testing PreSync Changes</h1>"
   ]
  },
  {
   "cell_type": "markdown",
   "metadata": {},
   "source": [
    "Of course, up to now we have just been looking at the thorn differences. Let's run some tests to see how these changes affect things!\n",
    "\n",
    "In PresyncWave, there are two tests - oldreflection and newreflection. These are similar to the oldsync and presync tests we made in the first tutorial. These are those tests, but the ReflectionSymmetry has been activated, and some parameters from ReflectionSymmetry have been given values.\n",
    "\n",
    "To begin, we will use ReflectionSymmetry from the master branch to see how the tests fare before these changes."
   ]
  },
  {
   "cell_type": "code",
   "execution_count": null,
   "metadata": {
    "collapsed": true,
    "scrolled": true
   },
   "outputs": [],
   "source": [
    "%cd ~/Tutorial/CactusPre\n",
    "%cp -r ../ReflectionSymmetry/* repos/cactusnumerical/ReflectionSymmetry/\n",
    "!time ./simfactory/bin/sim build -j 2 --thornlist=~/Tutorial/CactusPre/thornlists/thorns.th\n",
    "!./simfactory/bin/sim create-run reflectiontest --testsuite --procs 2 --num-threads 1 --select-tests PresyncWave/PresyncWave"
   ]
  },
  {
   "cell_type": "markdown",
   "metadata": {},
   "source": [
    "We see that the oldreflection test passes when we include the old ReflectionSymmetry thorn. From this, we can see that PreSync works with old thorns so long as the parameter file is also old. However, newreflection fails, which is expected. After all, this version of ReflectionSymmetry doesn't have any of our changes!\n",
    "\n",
    "Let's revert this to the presync version of ReflectionSymmetry and try it again."
   ]
  },
  {
   "cell_type": "code",
   "execution_count": null,
   "metadata": {
    "collapsed": true
   },
   "outputs": [],
   "source": [
    "%cd ~/Tutorial/CactusPre/repos/cactusnumerical\n",
    "!git checkout ReflectionSymmetry\n",
    "%cd ~/Tutorial/CactusPre\n",
    "!time ./simfactory/bin/sim build -j 2 --thornlist=~/Tutorial/CactusPre/thornlists/thorns.th\n",
    "!./simfactory/bin/sim create-run reflectiontest2 --testsuite --procs 2 --num-threads 1 --select-tests PresyncWave/PresyncWave"
   ]
  },
  {
   "cell_type": "markdown",
   "metadata": {},
   "source": [
    "As expected, all the tests pass with the presync branch of ReflectionSymmetry. Now you've seen how to change a symmetry boundary condition routine to use PreSync!"
   ]
  },
  {
   "cell_type": "markdown",
   "metadata": {
    "collapsed": true
   },
   "source": [
    "<table><tr><td>This work sponsored by NSF grants <a href=\"https://www.nsf.gov/awardsearch/showAward?AWD_ID=1550551\"> OAC 1550551</a> </td><td><img src=\"https://www.nsf.gov/awardsearch/images/common/nsf_logo_bottom.png\"></tr></table>"
   ]
  }
 ],
 "metadata": {
  "kernelspec": {
   "display_name": "Python 3",
   "language": "python",
   "name": "python3"
  },
  "language_info": {
   "codemirror_mode": {
    "name": "ipython",
    "version": 3
   },
   "file_extension": ".py",
   "mimetype": "text/x-python",
   "name": "python",
   "nbconvert_exporter": "python",
   "pygments_lexer": "ipython3",
   "version": "3.6.3"
  }
 },
 "nbformat": 4,
 "nbformat_minor": 2
}
