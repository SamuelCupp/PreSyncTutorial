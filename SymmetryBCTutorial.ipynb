{
 "cells": [
  {
   "cell_type": "markdown",
   "metadata": {},
   "source": [
    "![cactus](http://cactuscode.org/global/images/cactuslogo.png)\n",
    "# Tutorial 2: Reworking Symmetry Boundary Conditions"
   ]
  },
  {
   "cell_type": "code",
   "execution_count": null,
   "metadata": {},
   "outputs": [],
   "source": [
    "import os\n",
    "os.environ[\"PATH\"]=\"/opt/conda/envs/python2/bin:\"+os.environ[\"PATH\"]\n",
    "!python --version"
   ]
  },
  {
   "cell_type": "code",
   "execution_count": null,
   "metadata": {
    "scrolled": true
   },
   "outputs": [],
   "source": [
    "%cd ~/\n",
    "%mkdir Tutorial\n",
    "%cd ~/Tutorial\n",
    "!curl -kLO https://raw.githubusercontent.com/gridaphobe/CRL/ET_2018_02/GetComponents\n",
    "!chmod a+x ./GetComponents\n",
    "!echo no|./GetComponents --parallel ~/PreSyncTutorial/thorns.th\n",
    "%cd ~/Tutorial/CactusPre\n",
    "!./simfactory/bin/sim setup-silent\n",
    "%cd ~/Tutorial/CactusPre\n",
    "!time ./simfactory/bin/sim build -j 2 --thornlist=~/Tutorial/CactusPre/thornlists/thorns.th"
   ]
  },
  {
   "cell_type": "markdown",
   "metadata": {},
   "source": [
    "<h1>Running Cactus!</h1>"
   ]
  },
  {
   "cell_type": "markdown",
   "metadata": {},
   "source": [
    "In the first tutorial, we successfully updated a thorn to use PreSync. This demonstrated two different update types:\n",
    "1. updating a thorn that doesn't include boundary routines\n",
    "    1. add READ/WRITE declarations to scheduled functions\n",
    "    2. place all old boundary scheduling into a legacy if statement\n",
    "    3. add scheduling of BC selection routines in the PreSync_Selection group\n",
    "    4. change DECLARE_CCTK_ARGUMENTS to the new macro and include the cctk_Arguments_Checked.h header file\n",
    "2. Updating a boundary condition registered and applied using the Boundary thorn\n",
    "    1. apply the changes for a standard thorn\n",
    "    2. include the PreSync.h header file in the files with the boundary condition and registration functions\n",
    "\n",
    "The second case has an important qualifier: it was specifically for boundary conditions which use Boundary to apply their boundary conditions. How do we change a boundary routine which doesn't use Boundary? In addition to this, there exists another less obvious case to consider. Symmetry boundary conditions (scheduled in BoundaryConditions group in Boundary) need to be applied to all variables, unlike physical boundary conditions. This means that PreSync needs to use a different system to apply them than the physical boundary conditions.\n",
    "\n",
    "in this tutorial, we examine the symmetry boundary condition registered by the thorn CartGrid3D thorn and how this thorn is changed to use PreSync. To start, we need to access CartGrid3D without the PreSync changes. To do this, we will copy the master branch into the Tutorial directory so we may compare more easily inside this notebook."
   ]
  },
  {
   "cell_type": "code",
   "execution_count": null,
   "metadata": {
    "scrolled": true
   },
   "outputs": [],
   "source": [
    "%cd ~/Tutorial/CactusPre/repos/cactusbase\n",
    "!git checkout master\n",
    "%cp -r CartGrid3D ~/Tutorial/\n",
    "!git checkout presync"
   ]
  },
  {
   "cell_type": "markdown",
   "metadata": {},
   "source": [
    "Below, we use diff to see how the schedule.ccl changed for PreSync. The first difference is simply a renamed function, so we can ignore that change. Several READ/WRITE declarations follow, as we would expect. The last change is different. Originally, symmetry boundary conditions were applied by the Boundary thorn. Symmetry functions were registered with Symbase, and then the ApplyBC function was scheduled inside te BoundaryConditions group provided by the Boundary thorn. This scheduled function should only run if PreSync is not active, so it checks the value of use_psync. In addition, the name changes from CartGrid3D_ApplyBC to Old_CartGrid3D_ApplyBC. This is because the argument lists are different for the two functions, so they must be declared separately. We will see the details of this change later."
   ]
  },
  {
   "cell_type": "code",
   "execution_count": null,
   "metadata": {
    "scrolled": true
   },
   "outputs": [],
   "source": [
    "!diff ~/Tutorial/CactusPre/repos/cactusbase/CartGrid3D/schedule.ccl ~/Tutorial/CartGrid3D/schedule.ccl"
   ]
  },
  {
   "cell_type": "markdown",
   "metadata": {},
   "source": [
    "Next, we need to look at the interface.ccl. Below, we can see that a new function has been added named Boundary_RegisterSymmetryBC. This is a new function provided by Boundary2 to register symmetry boundary conditions with PreSync. The implementation is very similar to the Boundary_RegisterPhysicalBC provided by Boundary and Boundary2. Any thorn which provides symmetry boundary conditions must use this function to properly interface with PreSync."
   ]
  },
  {
   "cell_type": "code",
   "execution_count": null,
   "metadata": {
    "scrolled": true
   },
   "outputs": [],
   "source": [
    "!diff ~/Tutorial/CactusPre/repos/cactusbase/CartGrid3D/interface.ccl ~/Tutorial/CartGrid3D/interface.ccl"
   ]
  },
  {
   "cell_type": "markdown",
   "metadata": {},
   "source": [
    "We can now move to the source code. Several files use the DECLARE_CCTK_ARGUMENTS macro, so these are changed to the new macro. However, this is a simple change, so we won't discuss it further. The next file with meaningful changes is RegisterSymmetries.c, which contains the function that registers the symmetry boundary condition with SymBase. The first difference is just a new name for the function, which we saw earlier in the schedule.ccl. the second change swaps out the macros. last change adds several new lines of code. We see that it is only activated if PreSync is turned on, in which case it calls the Boundary_RegisterSymmetryBC function. We could also have added a completely new function to register with PreSync, but we chose to just have a single registration function."
   ]
  },
  {
   "cell_type": "code",
   "execution_count": null,
   "metadata": {
    "scrolled": true
   },
   "outputs": [],
   "source": [
    "!diff ~/Tutorial/CactusPre/repos/cactusbase/CartGrid3D/src/RegisterSymmetries.c ~/Tutorial/CartGrid3D/src/RegisterSymmetries.c"
   ]
  },
  {
   "cell_type": "markdown",
   "metadata": {},
   "source": [
    "We only have two more files with changes! The first is the header file Symmetry.h. For PreSync, we included PreSync.h and also included a prototype for the ApplyBC function. The prototyping is so we can pass that function in the Boundary_RegisterSymmetryBC call."
   ]
  },
  {
   "cell_type": "code",
   "execution_count": null,
   "metadata": {},
   "outputs": [],
   "source": [
    "!diff ~/Tutorial/CactusPre/repos/cactusbase/CartGrid3D/src/Symmetry.h ~/Tutorial/CartGrid3D/src/Symmetry.h"
   ]
  },
  {
   "cell_type": "markdown",
   "metadata": {},
   "source": [
    "The last file has the most significant changes, as it contains the symmetry function CartGrid3D_ApplyBC. Below, we extract "
   ]
  },
  {
   "cell_type": "code",
   "execution_count": null,
   "metadata": {
    "scrolled": true
   },
   "outputs": [],
   "source": [
    "!sed -n 680,741p ~/Tutorial/CartGrid3D/src/Symmetry.c > ~/Tutorial/oldsym.c\n",
    "!sed -n 680,700p ~/Tutorial/CactusPre/repos/cactusbase/CartGrid3D/src/Symmetry.c > ~/Tutorial/newsym.c\n",
    "!sed -n 1,3p ~/Tutorial/oldsym.c\n",
    "!sed -n 1,4p ~/Tutorial/newsym.c"
   ]
  },
  {
   "cell_type": "code",
   "execution_count": null,
   "metadata": {
    "scrolled": true
   },
   "outputs": [],
   "source": [
    "!sed -n 680,741p ~/Tutorial/CartGrid3D/src/Symmetry.c"
   ]
  },
  {
   "cell_type": "code",
   "execution_count": null,
   "metadata": {
    "scrolled": true
   },
   "outputs": [],
   "source": [
    "!sed -n 680,700p ~/Tutorial/CactusPre/repos/cactusbase/CartGrid3D/src/Symmetry.c"
   ]
  },
  {
   "cell_type": "markdown",
   "metadata": {},
   "source": [
    "L"
   ]
  },
  {
   "cell_type": "markdown",
   "metadata": {},
   "source": [
    "Changes to CartGrid3D:\n",
    "    5. Add PreSync-enabled registration in SymbaseRegister function\n",
    "    6. Add PreSync.h to Symmetry.h\n",
    "    7. Create new ApplyBCs function\n",
    "    8. Copy old function into Old_*"
   ]
  },
  {
   "cell_type": "code",
   "execution_count": null,
   "metadata": {
    "collapsed": true
   },
   "outputs": [],
   "source": []
  },
  {
   "cell_type": "code",
   "execution_count": null,
   "metadata": {
    "collapsed": true
   },
   "outputs": [],
   "source": []
  },
  {
   "cell_type": "code",
   "execution_count": null,
   "metadata": {
    "collapsed": true
   },
   "outputs": [],
   "source": []
  },
  {
   "cell_type": "markdown",
   "metadata": {},
   "source": [
    "Data can be found in this directory. Using the next couple of commands, we will browse it."
   ]
  },
  {
   "cell_type": "code",
   "execution_count": null,
   "metadata": {},
   "outputs": [],
   "source": [
    "%cd ~/simulations/oldwave/output-0000/oldwave"
   ]
  },
  {
   "cell_type": "code",
   "execution_count": null,
   "metadata": {
    "scrolled": true
   },
   "outputs": [],
   "source": [
    "%ls *.asc"
   ]
  },
  {
   "cell_type": "code",
   "execution_count": null,
   "metadata": {
    "collapsed": true
   },
   "outputs": [],
   "source": [
    "# This cell enables inline plotting in the notebook\n",
    "%matplotlib inline\n",
    "\n",
    "import matplotlib\n",
    "import numpy as np\n",
    "import matplotlib.pyplot as plt\n",
    "import matplotlib.cm as cm\n",
    "# https://matplotlib.org/examples/color/colormaps_reference.html\n",
    "cmap = cm.gist_rainbow"
   ]
  },
  {
   "cell_type": "markdown",
   "metadata": {},
   "source": [
    "The top of %pycat command showed us what the columns mean:\n",
    "HYDROBASE::rho (hydrobase-rho)\n",
    "* 1 iteration\n",
    "* 2 time - how much time has passed in the simulation\n",
    "* 3 the data, in this case the variable rho\n",
    "\n",
    "Once we know all this, it is straightforward to plot the data. Python knows how to read regularly formatted text files that use the # character for comments. Fortunately, that's what Cactus produces in its asc files."
   ]
  },
  {
   "cell_type": "code",
   "execution_count": null,
   "metadata": {
    "collapsed": true
   },
   "outputs": [],
   "source": [
    "file_data = np.genfromtxt(\"psi.xy.asc\")"
   ]
  },
  {
   "cell_type": "code",
   "execution_count": null,
   "metadata": {},
   "outputs": [],
   "source": [
    "sets = np.unique(file_data[:,0])\n",
    "width = 8\n",
    "height = 4\n",
    "print(\"sets=\",sets)\n",
    "mn, mx = np.min(file_data[:,8]),np.max(file_data[:,8])\n",
    "for which in sets: \n",
    "    print(\"which=\",which)\n",
    "    g = file_data[file_data[:,0]==which,:]\n",
    "    x = g[:,5]\n",
    "    y = g[:,6]\n",
    "    z = g[:,8]\n",
    "    zi = z.reshape(len(np.unique(y)),len(np.unique(x)))\n",
    "    print('min/max=',np.min(zi),np.max(zi))\n",
    "    plt.figure(figsize=(width, height))\n",
    "    plt.imshow(zi[::-1,:],cmap,clim=(mn,mx))\n",
    "    plt.show()"
   ]
  },
  {
   "cell_type": "markdown",
   "metadata": {},
   "source": [
    "<h2>Using PreSync</h2>\n",
    "We have confirmed that OldWave works, and by extension that legacy code still functions with the PreSync update to Cactus. Our next task is to change OldWave to use PreSync and remain backwards compatible with code that has not been updated to use PreSync."
   ]
  },
  {
   "cell_type": "markdown",
   "metadata": {},
   "source": [
    "To begin, we will change the schedule.ccl to use PreSync while remaining backward compatible. First, let us examine the current schedule."
   ]
  },
  {
   "cell_type": "code",
   "execution_count": null,
   "metadata": {
    "collapsed": true
   },
   "outputs": [],
   "source": [
    "%pycat ~/Tutorial/CactusPre/repos/PresyncWave/OldWave/schedule.ccl"
   ]
  },
  {
   "cell_type": "markdown",
   "metadata": {},
   "source": [
    "Currently, scheduled functions have SYNC statements to trigger synchronization, and the Boundary Routines section handles the registration and application of boundary conditions. PreSync instead relies on read/write declarations to determine when synchronization and boundary condition application routines should run. PreSync ignores the SYNC statements, so we can safely leave them for backward compatibility and add the READS and WRITES statements.\n",
    "\n",
    "Read/write statements require the thorn::variable that is accessed and also the region on which it is accessed. PreSync supports several regions of validity, but for most functions the only two which should be used are \"interior\" and \"everywhere\". A variable which is read \"everywhere\" requires that the variable be valid in the ghost zones and boundary regions, while reading the interior does not. Writing variables changes their region of validity, causing synchronization to trigger when the next read(everywhere) is encountered."
   ]
  },
  {
   "cell_type": "markdown",
   "metadata": {},
   "source": [
    "As an example, let us look at the function presync_wave_init. It is scheduled as\n",
    "\n",
    "```\n",
    "schedule oldsync_wave_init at CCTK_POSTINITIAL\n",
    "{\n",
    "  LANG: C\n",
    "  SYNC: OldWave::evo_vars\n",
    "} \"initial condition\"\n",
    "```\n",
    "\n",
    "This simple function writes psi and phi initial data, and it reads the grid variables x, and y. The code only loops over the interior, so Therefore, we may change the scheduling to the following:\n",
    "\n",
    "```\n",
    "schedule oldsync_wave_init at CCTK_POSTINITIAL\n",
    "{\n",
    "  LANG: C\n",
    "  READS: Grid::x(interior), y\n",
    "  WRITES: OldWave::evo_vars(interior)\n",
    "  SYNC: OldWave::evo_vars\n",
    "} \"initial condition\"\n",
    "```\n",
    "\n",
    "As seen in the READ declaration, multiple variables can be listed on one line by adding them after the region specification. Also, a group may be given instead of individual variables, as in the WRITE declaration.\n",
    "\n",
    "Compared to the confusing and non-trivial problem of determining the correct positions of the SYNC statements, determining the read/write declarations for a function is far simpler and only requires knowledge of the one scheduled function (and any functions it calls).\n",
    "\n",
    "All the functions in OldWave have very simple read/write dependencies, and adding those to the schedule.ccl are all that is required to properly trigger synchronization with PreSync. To see the complete declarations, you may look further down where we write the new schedule.ccl."
   ]
  },
  {
   "cell_type": "markdown",
   "metadata": {},
   "source": [
    "For now, we move on to boundary conditions. This thorn uses its own boundary conditions, which it registers with the Boundary thorn in the presync_registervars function. To apply boundary conditions, it schedules a SelectBCs function and the ApplyBCs group (provided by Boundary) wherever boundary conditions should be applied. In this case, there are two separate SelectBCs functions, and they must be scheduled separately.\n",
    "\n",
    "In contrast, PreSync only requires the SelectBCs routine to run once, at the beginning of a simulation. This is facillitated by the Boundary2 thorn, which provides the features of Boundary updated to use PreSync. In addition, it provides groups for boundary registration and selection. The new schedule for the boundary routines is\n",
    "```\n",
    "schedule presync_registerboundary in PreSync_Registration\n",
    "{\n",
    "  LANG: C\n",
    "} \"register boundaries\"\n",
    "\n",
    "schedule presync_SelectBCs in PreSync_Selection\n",
    "{\n",
    "  LANG: C\n",
    "} \"select boundary conditions\"\n",
    "\n",
    "schedule energy_SelectBCs in PreSync_Selection\n",
    "{\n",
    "  LANG: C\n",
    "} \"select boundary conditions\"\n",
    "```\n",
    "\n",
    "While the selectBCs functions could be combined, they remain separate to provide backward compatibility. However, we can't simply add this to the schedule.ccl and expect it to work. We need to turn off the new scheduled routines and turn on the old scheduled routines if running in backward-compatible mode. This is accomplished by using the routine\n",
    "```\n",
    "CCTK_ParameterValInt(\"use_psync\",\"Carpet\")\n",
    "```\n",
    "to determine which should run. If it equals 1, then PreSync is active. If it equals 0, then the backward-compatible routines should be used."
   ]
  },
  {
   "cell_type": "markdown",
   "metadata": {},
   "source": [
    "The changes discussed above are implemented in the schedule.ccl below. This command will overwrite the old schedule.ccl with our new version."
   ]
  },
  {
   "cell_type": "code",
   "execution_count": null,
   "metadata": {},
   "outputs": [],
   "source": [
    "%%writefile ~/Tutorial/CactusPre/repos/PresyncWave/OldWave/schedule.ccl\n",
    "\n",
    "# Schedule definitions for thorn PresyncWave\n",
    "storage: rhs_vars[3], evo_vars[3], evo_divs, wave_energy[3]\n",
    "\n",
    "schedule oldsync_wave_init at CCTK_POSTINITIAL\n",
    "{\n",
    "  LANG: C\n",
    "  READS: Grid::x(interior), y\n",
    "  WRITES: OldWave::evo_vars(interior)\n",
    "  SYNC: OldWave::evo_vars\n",
    "} \"initial condition\"\n",
    "\n",
    "schedule oldsync_wave_evolve in MoL_CalcRHS\n",
    "{\n",
    "  LANG: C\n",
    "  READS: OldWave::evo_divs(interior), phi\n",
    "  WRITES: OldWave::rhs_vars(interior)\n",
    "  SYNC: OldWave::rhs_vars\n",
    "} \"Evolve loop\"\n",
    "\n",
    "schedule oldsync_derivatives in MoL_CalcRHS before oldsync_wave_evolve\n",
    "{\n",
    "  LANG: C\n",
    "  READS: OldWave::evo_vars(everywhere)\n",
    "  WRITES: OldWave::evo_divs(interior)\n",
    "} \"Compute derivatives\"\n",
    "\n",
    "schedule oldsync_registervars in MoL_Register\n",
    "{\n",
    "  LANG: C\n",
    "  OPTIONS: META\n",
    "}\"Register funwave variables for MoL\"\n",
    "\n",
    "#################################################\n",
    "##             Boundary Routines               ##\n",
    "#################################################\n",
    "\n",
    "# In this function, we register boundary conditions\n",
    "# with Carpet (not thorn Boundary). This new way\n",
    "# of doing things makes it possible for Carpet to\n",
    "# fill in the exterior of the variable at the\n",
    "# same time it performs a sync.\n",
    "if(CCTK_ParameterValInt(\"use_psync\",\"Carpet\") == 1) {\n",
    "  schedule oldsync_registerboundary in PreSync_Registration\n",
    "  {\n",
    "    LANG: C\n",
    "  } \"register boundaries\"\n",
    "\n",
    "  schedule oldsync_evolve_SelectBCs in PreSync_Selection\n",
    "  {\n",
    "    LANG: C\n",
    "  } \"select boundary conditions\"\n",
    "\n",
    "  schedule oldsync_energy_SelectBCs in PreSync_Selection\n",
    "  {\n",
    "    LANG: C\n",
    "  } \"select boundary conditions\"\n",
    "}\n",
    "\n",
    "if(CCTK_ParameterValInt(\"use_psync\",\"Carpet\") == 0) {\n",
    "  schedule group PSWave_Boundaries in MoL_CalcRHS before oldsync_derivatives\n",
    "  {\n",
    "  } \"boundary condition group\"\n",
    "  schedule group PSWave_Boundaries in CCTK_ANALYSIS before oldsync_energy\n",
    "  {\n",
    "  } \"boundary condition group\"\n",
    "\n",
    "  schedule group PSWave_Boundaries at POSTRESTRICT\n",
    "  {\n",
    "  } \"boundary condition group\"\n",
    "\n",
    "  schedule oldsync_registerboundary at CCTK_WRAGH\n",
    "  {\n",
    "    LANG: C\n",
    "  } \"register boundaries\"\n",
    "\n",
    "  schedule oldsync_evolve_SelectBCs in PSWave_Boundaries\n",
    "  {\n",
    "    LANG: C\n",
    "  } \"select boundary conditions\"\n",
    "\n",
    "  schedule GROUP ApplyBCs as PSWave_ApplyBCs in PSWave_Boundaries after oldsync_evolve_selectBCs\n",
    "  {\n",
    "  } \"Apply boundary conditions\"\n",
    "\n",
    "  schedule group Energy_Boundary at CCTK_ANALYSIS after oldsync_energy\n",
    "  {\n",
    "  } \"boundary condition group\"\n",
    "\n",
    "  schedule oldsync_energy_SelectBCs in Energy_Boundary\n",
    "  {\n",
    "    LANG: C\n",
    "  } \"select boundary conditions\"\n",
    "\n",
    "  schedule GROUP ApplyBCs as Energy_ApplyBCs in Energy_Boundary after oldsync_energy_SelectBCs\n",
    "  {\n",
    "  } \"Apply boundary conditions\"\n",
    "}\n",
    "\n",
    "#################################################\n",
    "##            Energy Calculations              ##\n",
    "#################################################\n",
    "\n",
    "schedule oldsync_energy at CCTK_ANALYSIS\n",
    "{\n",
    "  LANG: C\n",
    "  READS: OldWave::evo_vars(everywhere)\n",
    "  WRITES: OldWave::energy(interior)\n",
    "  SYNC: OldWave::wave_energy\n",
    "} \"Calculate energy\""
   ]
  },
  {
   "cell_type": "markdown",
   "metadata": {},
   "source": [
    "We now have a working schedule.ccl. None of the other ccl files need to be changed, so we can move on to the source code. First, we need to look at the PSWave.h. This provides the function type used to pass the boundary routines to the Boundary thorn. To do this, we could have used the Boundary.h thorn from Boundary or included the typedef itself. We elected to perform the latter, as we can see below."
   ]
  },
  {
   "cell_type": "code",
   "execution_count": null,
   "metadata": {},
   "outputs": [],
   "source": [
    "%cat ~/Tutorial/CactusPre/repos/PresyncWave/OldWave/src/PSWave.h"
   ]
  },
  {
   "cell_type": "markdown",
   "metadata": {},
   "source": [
    "For PreSync, we replace this with the header file PreSync.h. This header file is located in the flesh, so it is readily available to all thorns. It contains the boundary_function typedef as well as the definitions for the regions of validity. In addition to variable registration, this is included whenever a function needs to access the validity of a variable."
   ]
  },
  {
   "cell_type": "code",
   "execution_count": null,
   "metadata": {},
   "outputs": [],
   "source": [
    "%%writefile ~/Tutorial/CactusPre/repos/PresyncWave/OldWave/src/PSWave.h\n",
    "\n",
    "#ifndef _PSWave_H_\n",
    "#define _PSWave_H_\n",
    "\n",
    "#include \"PreSync.h\"\n",
    "\n",
    "#ifdef __cplusplus\n",
    "extern \"C\" {\n",
    "#endif\n",
    "\n",
    "/* prototype for routine registered as providing 'zero' boundary condition */\n",
    "CCTK_INT fun_stwave(const cGH *cctkGH, CCTK_INT num_vars, CCTK_INT *var_indices,\n",
    "                  CCTK_INT *faces, CCTK_INT *widths, CCTK_INT *table_handles);\n",
    "\n",
    "/* prototype for routine registered as providing 'symmetry' and 'anti-symmetry' boundary conditions */\n",
    "CCTK_INT fun_bf2(const cGH *cctkGH, CCTK_INT num_vars, CCTK_INT *var_indices,\n",
    "                  CCTK_INT *faces, CCTK_INT *widths, CCTK_INT *table_handles);\n",
    "\n",
    "#ifdef __cplusplus\n",
    "}\n",
    "#endif\n",
    "\n",
    "#endif /* _PSWave_H_ */"
   ]
  },
  {
   "cell_type": "markdown",
   "metadata": {},
   "source": [
    "The next step is very easy, though it will be disproportionately long in the notebook. The current method for accessing variables in Cactus is to use the DECLARE_CCTK_ARGUMENTS macro. However, this declares *every* variable and not just those needed by the function. To reduce these declarations and provide additional error-checking, PreSync provides new (optional) macros which are generated based on the read/write declarations. Each scheduled function has its own macro which only provides access to declared variables. In addition, read-only declarations are declared as const, which provides additional verification for read/write declarations. To include these new macros, we add\n",
    "```\n",
    "#include \"cctk_Arguments_Checked.h\"\n",
    "```\n",
    "and replace DECLARE_CCTK_ARGUMENTS with DECLARE_CCTK_ARGUMENTS_FunctionName. This is done below for all the code in the OldWave thorn."
   ]
  },
  {
   "cell_type": "code",
   "execution_count": null,
   "metadata": {},
   "outputs": [],
   "source": [
    "%%writefile ~/Tutorial/CactusPre/repos/PresyncWave/OldWave/src/energy.cc\n",
    "\n",
    "#include \"cctk.h\" \n",
    "#include \"cctk_Arguments.h\"\n",
    "#include \"cctk_Arguments_Checked.h\"\n",
    "#include \"cctk_Parameters.h\"\n",
    "#include \"iostream\"\n",
    "\n",
    "void oldsync_energy(CCTK_ARGUMENTS)\n",
    "{\n",
    "  DECLARE_CCTK_ARGUMENTS_oldsync_energy\n",
    "  DECLARE_CCTK_PARAMETERS;\n",
    "      \n",
    "  const int imin0=cctk_nghostzones[0];\n",
    "  const int imin1=cctk_nghostzones[1];\n",
    "  const int imin2=cctk_nghostzones[2];\n",
    "  const int imax0=cctk_lsh[0] - cctk_nghostzones[0];\n",
    "  const int imax1=cctk_lsh[1] - cctk_nghostzones[1];\n",
    "  const int imax2=cctk_lsh[2] - cctk_nghostzones[2];\n",
    "  const int zero = CCTK_GFINDEX3D(cctkGH,0,0,0);\n",
    "  const int di = (cctk_lsh[0]==1) ? 0:CCTK_GFINDEX3D(cctkGH,1,0,0) - zero;\n",
    "  const int dj = (cctk_lsh[1]==1) ? 0:CCTK_GFINDEX3D(cctkGH,0,1,0) - zero;\n",
    "  const int dk = (cctk_lsh[2]==1) ? 0:CCTK_GFINDEX3D(cctkGH,0,0,1) - zero;\n",
    "  #pragma omp parallel\n",
    "  CCTK_LOOP3(calc_energy,i,j,k,\n",
    "    imin0,imin1,imin2,imax0,imax1,imax2,\n",
    "    cctk_ash[0],cctk_ash[1],cctk_ash[2])\n",
    "  {\n",
    "    int cc = CCTK_GFINDEX3D(cctkGH,i,j,k);\n",
    "    double psix = (psi[cc+di]-psi[cc-di])/(2.0*CCTK_DELTA_SPACE(0));\n",
    "    double psiy = (psi[cc+dj]-psi[cc-dj])/(2.0*CCTK_DELTA_SPACE(1));\n",
    "    double psiz = (psi[cc+dk]-psi[cc-dk])/(2.0*CCTK_DELTA_SPACE(2));\n",
    "    energy[cc] = phi[cc]*phi[cc] + psix*psix +\n",
    "      psiy*psiy + psiz*psiz;\n",
    "  }\n",
    "  CCTK_ENDLOOP3(calc_energy);\n",
    "}"
   ]
  },
  {
   "cell_type": "code",
   "execution_count": null,
   "metadata": {
    "collapsed": true
   },
   "outputs": [],
   "source": [
    "%%writefile ~/Tutorial/CactusPre/repos/PresyncWave/OldWave/src/Wave.cc\n",
    "\n",
    "#include <cctk.h>\n",
    "#include <cctk_Arguments.h>\n",
    "#include <cctk_Arguments_Checked.h>\n",
    "#include <cctk_Parameters.h>\n",
    "#include <iostream>\n",
    "\n",
    "#define sq(X) (X)*(X)\n",
    "\n",
    "extern \"C\"\n",
    "void oldsync_wave_init(CCTK_ARGUMENTS)\n",
    "{\n",
    "  DECLARE_CCTK_ARGUMENTS_oldsync_wave_init\n",
    "  DECLARE_CCTK_PARAMETERS\n",
    "\n",
    "  const int imin0=cctk_nghostzones[0];\n",
    "  const int imin1=cctk_nghostzones[1];\n",
    "  const int imin2=cctk_nghostzones[2];\n",
    "  const int imax0=cctk_lsh[0] - cctk_nghostzones[0];\n",
    "  const int imax1=cctk_lsh[1] - cctk_nghostzones[1];\n",
    "  const int imax2=cctk_lsh[2] - cctk_nghostzones[2];\n",
    "  CCTK_REAL x0 = x[CCTK_GFINDEX3D(cctkGH,cctk_lsh[0]/2,cctk_lsh[1]/2,cctk_lsh[2]/2)];\n",
    "  CCTK_REAL y0 = x[CCTK_GFINDEX3D(cctkGH,cctk_lsh[0]/2,cctk_lsh[1]/2,cctk_lsh[2]/2)];\n",
    "  #pragma omp parallel\n",
    "  CCTK_LOOP3(calc_oldsync_wave_init,\n",
    "    i,j,k, imin0,imin1,imin2, imax0,imax1,imax2,\n",
    "    cctk_ash[0],cctk_ash[1],cctk_ash[2])\n",
    "  {\n",
    "    int cc = CCTK_GFINDEX3D(cctkGH,i,j,k);\n",
    "    psi[cc] = exp(-sq(x[cc]-x0)-sq(y[cc]-y0));\n",
    "    phi[cc] = 0;\n",
    "  }\n",
    "  CCTK_ENDLOOP3(calc_oldsync_wave_init);\n",
    "}\n",
    "\n",
    "extern \"C\"\n",
    "void oldsync_wave_evolve(CCTK_ARGUMENTS)\n",
    "{\n",
    "  DECLARE_CCTK_ARGUMENTS_oldsync_wave_evolve;\n",
    "  DECLARE_CCTK_PARAMETERS;\n",
    "\n",
    "  const int imin0=cctk_nghostzones[0];\n",
    "  const int imin1=cctk_nghostzones[1];\n",
    "  const int imin2=cctk_nghostzones[2];\n",
    "  const int imax0=cctk_lsh[0] - cctk_nghostzones[0];\n",
    "  const int imax1=cctk_lsh[1] - cctk_nghostzones[1];\n",
    "  const int imax2=cctk_lsh[2] - cctk_nghostzones[2];\n",
    "  #pragma omp parallel\n",
    "  CCTK_LOOP3(calc_oldsync_wave_evol,\n",
    "    i,j,k, imin0,imin1,imin2, imax0,imax1,imax2,\n",
    "    cctk_ash[0],cctk_ash[1],cctk_ash[2])\n",
    "  {\n",
    "    int cc = CCTK_GFINDEX3D(cctkGH,i,j,k);\n",
    "    psi_rhs[cc] = phi[cc];\n",
    "    phi_rhs[cc] = dxx_psi[cc]+dyy_psi[cc]+dzz_psi[cc];\n",
    "  }\n",
    "  CCTK_ENDLOOP3(calc_oldsync_wave_evol);\n",
    "}\n",
    "\n",
    "extern \"C\"\n",
    "void oldsync_derivatives(CCTK_ARGUMENTS)\n",
    "{\n",
    "  DECLARE_CCTK_ARGUMENTS_oldsync_derivatives;\n",
    "  DECLARE_CCTK_PARAMETERS;\n",
    "\n",
    "  const int imin0=cctk_nghostzones[0];\n",
    "  const int imin1=cctk_nghostzones[1];\n",
    "  const int imin2=cctk_nghostzones[2];\n",
    "  const int imax0=cctk_lsh[0] - cctk_nghostzones[0];\n",
    "  const int imax1=cctk_lsh[1] - cctk_nghostzones[1];\n",
    "  const int imax2=cctk_lsh[2] - cctk_nghostzones[2];\n",
    "  const int zero = CCTK_GFINDEX3D(cctkGH,0,0,0);\n",
    "  const int di = (cctk_lsh[0]==1) ? 0:CCTK_GFINDEX3D(cctkGH,1,0,0) - zero;\n",
    "  const int dj = (cctk_lsh[1]==1) ? 0:CCTK_GFINDEX3D(cctkGH,0,1,0) - zero;\n",
    "  const int dk = (cctk_lsh[2]==1) ? 0:CCTK_GFINDEX3D(cctkGH,0,0,1) - zero;\n",
    "  assert(!std::isnan(psi[zero]));\n",
    "  #pragma omp parallel\n",
    "  CCTK_LOOP3(calc_oldsync_derivs,\n",
    "    i,j,k, imin0,imin1,imin2, imax0,imax1,imax2,\n",
    "    cctk_ash[0],cctk_ash[1],cctk_ash[2])\n",
    "  {\n",
    "    int cc = CCTK_GFINDEX3D(cctkGH,i,j,k);\n",
    "    dxx_psi[cc] = (psi[cc+di]+psi[cc-di]-2.0*psi[cc])/(CCTK_DELTA_SPACE(0)*CCTK_DELTA_SPACE(0));\n",
    "    dyy_psi[cc] = (psi[cc+dj]+psi[cc-dj]-2.0*psi[cc])/(CCTK_DELTA_SPACE(1)*CCTK_DELTA_SPACE(1));\n",
    "    dzz_psi[cc] = (psi[cc+dk]+psi[cc-dk]-2.0*psi[cc])/(CCTK_DELTA_SPACE(2)*CCTK_DELTA_SPACE(2));\n",
    "  }\n",
    "  CCTK_ENDLOOP3(calc_oldsync_derivs);\n",
    "}"
   ]
  },
  {
   "cell_type": "markdown",
   "metadata": {},
   "source": [
    "Congratulations! You've just changed your first thorn to use PreSync! To verify that we haven't broken backward compatibility, we can recompile and run the test in OldWave. The parameter file for this test is identical to the one we used earlier, except it calculates less iterations."
   ]
  },
  {
   "cell_type": "code",
   "execution_count": null,
   "metadata": {},
   "outputs": [],
   "source": [
    "%cd ~/Tutorial/CactusPre/\n",
    "!time ./simfactory/bin/sim build -j 2 --thornlist=~/Tutorial/CactusPre/thornlists/thorns.th"
   ]
  },
  {
   "cell_type": "code",
   "execution_count": null,
   "metadata": {},
   "outputs": [],
   "source": [
    "%cd ~/Tutorial/CactusPre/\n",
    "!./simfactory/bin/sim create-run mytest --testsuite --procs 2 --num-threads 1 --select-tests PresyncWave/OldWave"
   ]
  },
  {
   "cell_type": "markdown",
   "metadata": {},
   "source": [
    "<h3>Questions and Exercises:</h3>\n",
    "\n",
    "* Run the above simulation using a single process instead of two. Do the plotting routines work? What changes did you have to make. What would you need to do to make it work with 3?\n",
    "* Run the code at 1/2 the resolution.\n",
    "* Position the Guassian wave at a different place on the grid.\n",
    "* If you wanted to change the compiler or a compiler flag, how would you go about doing that?\n",
    "* If you wanted to add another thorn to the list of thorns to compile, how would you go about doing that?\n",
    "* If you wanted to create a thornlist that would check out Cactus under the Foo directory instead of the CactusFW2 directory, how would you do it?"
   ]
  },
  {
   "cell_type": "markdown",
   "metadata": {
    "collapsed": true
   },
   "source": [
    "<table><tr><td>This work sponsored by NSF grants <a href=\"https://www.nsf.gov/awardsearch/showAward?AWD_ID=1550551\"> OAC 1550551</a> and <a href=\"https://www.nsf.gov/awardsearch/showAward?AWD_ID=1539567\"> CCF 1539567</a></td><td><img src=\"https://www.nsf.gov/awardsearch/images/common/nsf_logo_bottom.png\"></tr></table>"
   ]
  },
  {
   "cell_type": "code",
   "execution_count": null,
   "metadata": {
    "collapsed": true
   },
   "outputs": [],
   "source": []
  }
 ],
 "metadata": {
  "kernelspec": {
   "display_name": "Python 3",
   "language": "python",
   "name": "python3"
  },
  "language_info": {
   "codemirror_mode": {
    "name": "ipython",
    "version": 3
   },
   "file_extension": ".py",
   "mimetype": "text/x-python",
   "name": "python",
   "nbconvert_exporter": "python",
   "pygments_lexer": "ipython3",
   "version": "3.6.3"
  }
 },
 "nbformat": 4,
 "nbformat_minor": 2
}
